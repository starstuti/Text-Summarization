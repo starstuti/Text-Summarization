{
  "nbformat": 4,
  "nbformat_minor": 0,
  "metadata": {
    "colab": {
      "name": "Bot.ipynb",
      "provenance": [],
      "toc_visible": true,
      "authorship_tag": "ABX9TyNmAzk/P1btA3Me1dDRajN4",
      "include_colab_link": true
    },
    "kernelspec": {
      "name": "python3",
      "display_name": "Python 3"
    },
    "accelerator": "GPU"
  },
  "cells": [
    {
      "cell_type": "markdown",
      "metadata": {
        "id": "view-in-github",
        "colab_type": "text"
      },
      "source": [
        "<a href=\"https://colab.research.google.com/github/gpriya32/project_elc/blob/main/Bot.ipynb\" target=\"_parent\"><img src=\"https://colab.research.google.com/assets/colab-badge.svg\" alt=\"Open In Colab\"/></a>"
      ]
    },
    {
      "cell_type": "code",
      "metadata": {
        "colab": {
          "base_uri": "https://localhost:8080/"
        },
        "id": "rWgyJx2KyJrF",
        "outputId": "6c2349a0-26f2-404f-a185-9d2bda1ce864"
      },
      "source": [
        "!pip install bert-serving-client\r\n",
        "!pip install -U bert-serving-server[http]"
      ],
      "execution_count": 1,
      "outputs": [
        {
          "output_type": "stream",
          "text": [
            "Collecting bert-serving-client\n",
            "  Downloading https://files.pythonhosted.org/packages/1f/09/aae1405378a848b2e87769ad89a43d6d71978c4e15534ca48e82e723a72f/bert_serving_client-1.10.0-py2.py3-none-any.whl\n",
            "Requirement already satisfied: numpy in /usr/local/lib/python3.6/dist-packages (from bert-serving-client) (1.19.4)\n",
            "Requirement already satisfied: pyzmq>=17.1.0 in /usr/local/lib/python3.6/dist-packages (from bert-serving-client) (20.0.0)\n",
            "Installing collected packages: bert-serving-client\n",
            "Successfully installed bert-serving-client-1.10.0\n",
            "Collecting bert-serving-server[http]\n",
            "\u001b[?25l  Downloading https://files.pythonhosted.org/packages/b0/bd/cab677bbd0c5fb08b72e468371d2bca6ed9507785739b4656b0b5470d90b/bert_serving_server-1.10.0-py3-none-any.whl (61kB)\n",
            "\u001b[K     |████████████████████████████████| 71kB 4.5MB/s \n",
            "\u001b[?25hRequirement already satisfied, skipping upgrade: six in /usr/local/lib/python3.6/dist-packages (from bert-serving-server[http]) (1.15.0)\n",
            "Collecting GPUtil>=1.3.0\n",
            "  Downloading https://files.pythonhosted.org/packages/ed/0e/5c61eedde9f6c87713e89d794f01e378cfd9565847d4576fa627d758c554/GPUtil-1.4.0.tar.gz\n",
            "Requirement already satisfied, skipping upgrade: termcolor>=1.1 in /usr/local/lib/python3.6/dist-packages (from bert-serving-server[http]) (1.1.0)\n",
            "Requirement already satisfied, skipping upgrade: numpy in /usr/local/lib/python3.6/dist-packages (from bert-serving-server[http]) (1.19.4)\n",
            "Requirement already satisfied, skipping upgrade: pyzmq>=17.1.0 in /usr/local/lib/python3.6/dist-packages (from bert-serving-server[http]) (20.0.0)\n",
            "Collecting flask-json; extra == \"http\"\n",
            "  Downloading https://files.pythonhosted.org/packages/6f/2d/4c21d98b11f3a206fabbdd965b53a2ca3ee9fab7646c93cf36c060e8f1a4/Flask_JSON-0.3.4-py3-none-any.whl\n",
            "Collecting flask-compress; extra == \"http\"\n",
            "  Downloading https://files.pythonhosted.org/packages/b2/7a/9c4641f975fb9daaf945dc39da6a52fd5693ab3bbc2d53780eab3b5106f4/Flask_Compress-1.8.0-py3-none-any.whl\n",
            "Requirement already satisfied, skipping upgrade: flask; extra == \"http\" in /usr/local/lib/python3.6/dist-packages (from bert-serving-server[http]) (1.1.2)\n",
            "Requirement already satisfied, skipping upgrade: bert-serving-client; extra == \"http\" in /usr/local/lib/python3.6/dist-packages (from bert-serving-server[http]) (1.10.0)\n",
            "Collecting flask-cors; extra == \"http\"\n",
            "  Downloading https://files.pythonhosted.org/packages/db/84/901e700de86604b1c4ef4b57110d4e947c218b9997adf5d38fa7da493bce/Flask_Cors-3.0.10-py2.py3-none-any.whl\n",
            "Collecting brotli\n",
            "\u001b[?25l  Downloading https://files.pythonhosted.org/packages/b4/d3/7c98f05b7b9103e2f3a112ba42f269c798155b3e5404fb80bb8f823aaebe/Brotli-1.0.9-cp36-cp36m-manylinux1_x86_64.whl (357kB)\n",
            "\u001b[K     |████████████████████████████████| 358kB 13.4MB/s \n",
            "\u001b[?25hRequirement already satisfied, skipping upgrade: itsdangerous>=0.24 in /usr/local/lib/python3.6/dist-packages (from flask; extra == \"http\"->bert-serving-server[http]) (1.1.0)\n",
            "Requirement already satisfied, skipping upgrade: Werkzeug>=0.15 in /usr/local/lib/python3.6/dist-packages (from flask; extra == \"http\"->bert-serving-server[http]) (1.0.1)\n",
            "Requirement already satisfied, skipping upgrade: click>=5.1 in /usr/local/lib/python3.6/dist-packages (from flask; extra == \"http\"->bert-serving-server[http]) (7.1.2)\n",
            "Requirement already satisfied, skipping upgrade: Jinja2>=2.10.1 in /usr/local/lib/python3.6/dist-packages (from flask; extra == \"http\"->bert-serving-server[http]) (2.11.2)\n",
            "Requirement already satisfied, skipping upgrade: MarkupSafe>=0.23 in /usr/local/lib/python3.6/dist-packages (from Jinja2>=2.10.1->flask; extra == \"http\"->bert-serving-server[http]) (1.1.1)\n",
            "Building wheels for collected packages: GPUtil\n",
            "  Building wheel for GPUtil (setup.py) ... \u001b[?25l\u001b[?25hdone\n",
            "  Created wheel for GPUtil: filename=GPUtil-1.4.0-cp36-none-any.whl size=7411 sha256=42455f27053d5d0aac9778df3a719eb0f31fd46f38976a930a66a47c764f3ca0\n",
            "  Stored in directory: /root/.cache/pip/wheels/3d/77/07/80562de4bb0786e5ea186911a2c831fdd0018bda69beab71fd\n",
            "Successfully built GPUtil\n",
            "Installing collected packages: GPUtil, flask-json, brotli, flask-compress, flask-cors, bert-serving-server\n",
            "Successfully installed GPUtil-1.4.0 bert-serving-server-1.10.0 brotli-1.0.9 flask-compress-1.8.0 flask-cors-3.0.10 flask-json-0.3.4\n"
          ],
          "name": "stdout"
        }
      ]
    },
    {
      "cell_type": "code",
      "metadata": {
        "id": "VWiJSUXOVfJi",
        "colab": {
          "base_uri": "https://localhost:8080/"
        },
        "outputId": "a4357b36-b5fe-4cb4-cb2f-ebe8e666c60c"
      },
      "source": [
        "!pip uninstall tensorflow\r\n",
        "!pip install tensorflow==1.15.0"
      ],
      "execution_count": 2,
      "outputs": [
        {
          "output_type": "stream",
          "text": [
            "Uninstalling tensorflow-2.4.0:\n",
            "  Would remove:\n",
            "    /usr/local/bin/estimator_ckpt_converter\n",
            "    /usr/local/bin/import_pb_to_tensorboard\n",
            "    /usr/local/bin/saved_model_cli\n",
            "    /usr/local/bin/tensorboard\n",
            "    /usr/local/bin/tf_upgrade_v2\n",
            "    /usr/local/bin/tflite_convert\n",
            "    /usr/local/bin/toco\n",
            "    /usr/local/bin/toco_from_protos\n",
            "    /usr/local/lib/python3.6/dist-packages/tensorflow-2.4.0.dist-info/*\n",
            "    /usr/local/lib/python3.6/dist-packages/tensorflow/*\n",
            "Proceed (y/n)? y\n",
            "y\n",
            "  Successfully uninstalled tensorflow-2.4.0\n",
            "Collecting tensorflow==1.15.0\n",
            "\u001b[?25l  Downloading https://files.pythonhosted.org/packages/3f/98/5a99af92fb911d7a88a0005ad55005f35b4c1ba8d75fba02df726cd936e6/tensorflow-1.15.0-cp36-cp36m-manylinux2010_x86_64.whl (412.3MB)\n",
            "\u001b[K     |████████████████████████████████| 412.3MB 42kB/s \n",
            "\u001b[?25hCollecting tensorflow-estimator==1.15.1\n",
            "\u001b[?25l  Downloading https://files.pythonhosted.org/packages/de/62/2ee9cd74c9fa2fa450877847ba560b260f5d0fb70ee0595203082dafcc9d/tensorflow_estimator-1.15.1-py2.py3-none-any.whl (503kB)\n",
            "\u001b[K     |████████████████████████████████| 512kB 53.5MB/s \n",
            "\u001b[?25hRequirement already satisfied: google-pasta>=0.1.6 in /usr/local/lib/python3.6/dist-packages (from tensorflow==1.15.0) (0.2.0)\n",
            "Collecting gast==0.2.2\n",
            "  Downloading https://files.pythonhosted.org/packages/4e/35/11749bf99b2d4e3cceb4d55ca22590b0d7c2c62b9de38ac4a4a7f4687421/gast-0.2.2.tar.gz\n",
            "Requirement already satisfied: wheel>=0.26 in /usr/local/lib/python3.6/dist-packages (from tensorflow==1.15.0) (0.36.2)\n",
            "Collecting tensorboard<1.16.0,>=1.15.0\n",
            "\u001b[?25l  Downloading https://files.pythonhosted.org/packages/1e/e9/d3d747a97f7188f48aa5eda486907f3b345cd409f0a0850468ba867db246/tensorboard-1.15.0-py3-none-any.whl (3.8MB)\n",
            "\u001b[K     |████████████████████████████████| 3.8MB 55.5MB/s \n",
            "\u001b[?25hRequirement already satisfied: grpcio>=1.8.6 in /usr/local/lib/python3.6/dist-packages (from tensorflow==1.15.0) (1.32.0)\n",
            "Requirement already satisfied: keras-preprocessing>=1.0.5 in /usr/local/lib/python3.6/dist-packages (from tensorflow==1.15.0) (1.1.2)\n",
            "Requirement already satisfied: numpy<2.0,>=1.16.0 in /usr/local/lib/python3.6/dist-packages (from tensorflow==1.15.0) (1.19.4)\n",
            "Requirement already satisfied: astor>=0.6.0 in /usr/local/lib/python3.6/dist-packages (from tensorflow==1.15.0) (0.8.1)\n",
            "Requirement already satisfied: absl-py>=0.7.0 in /usr/local/lib/python3.6/dist-packages (from tensorflow==1.15.0) (0.10.0)\n",
            "Requirement already satisfied: opt-einsum>=2.3.2 in /usr/local/lib/python3.6/dist-packages (from tensorflow==1.15.0) (3.3.0)\n",
            "Requirement already satisfied: six>=1.10.0 in /usr/local/lib/python3.6/dist-packages (from tensorflow==1.15.0) (1.15.0)\n",
            "Requirement already satisfied: protobuf>=3.6.1 in /usr/local/lib/python3.6/dist-packages (from tensorflow==1.15.0) (3.12.4)\n",
            "Requirement already satisfied: wrapt>=1.11.1 in /usr/local/lib/python3.6/dist-packages (from tensorflow==1.15.0) (1.12.1)\n",
            "Collecting keras-applications>=1.0.8\n",
            "\u001b[?25l  Downloading https://files.pythonhosted.org/packages/71/e3/19762fdfc62877ae9102edf6342d71b28fbfd9dea3d2f96a882ce099b03f/Keras_Applications-1.0.8-py3-none-any.whl (50kB)\n",
            "\u001b[K     |████████████████████████████████| 51kB 8.4MB/s \n",
            "\u001b[?25hRequirement already satisfied: termcolor>=1.1.0 in /usr/local/lib/python3.6/dist-packages (from tensorflow==1.15.0) (1.1.0)\n",
            "Requirement already satisfied: setuptools>=41.0.0 in /usr/local/lib/python3.6/dist-packages (from tensorboard<1.16.0,>=1.15.0->tensorflow==1.15.0) (51.0.0)\n",
            "Requirement already satisfied: werkzeug>=0.11.15 in /usr/local/lib/python3.6/dist-packages (from tensorboard<1.16.0,>=1.15.0->tensorflow==1.15.0) (1.0.1)\n",
            "Requirement already satisfied: markdown>=2.6.8 in /usr/local/lib/python3.6/dist-packages (from tensorboard<1.16.0,>=1.15.0->tensorflow==1.15.0) (3.3.3)\n",
            "Requirement already satisfied: h5py in /usr/local/lib/python3.6/dist-packages (from keras-applications>=1.0.8->tensorflow==1.15.0) (2.10.0)\n",
            "Requirement already satisfied: importlib-metadata; python_version < \"3.8\" in /usr/local/lib/python3.6/dist-packages (from markdown>=2.6.8->tensorboard<1.16.0,>=1.15.0->tensorflow==1.15.0) (3.3.0)\n",
            "Requirement already satisfied: typing-extensions>=3.6.4; python_version < \"3.8\" in /usr/local/lib/python3.6/dist-packages (from importlib-metadata; python_version < \"3.8\"->markdown>=2.6.8->tensorboard<1.16.0,>=1.15.0->tensorflow==1.15.0) (3.7.4.3)\n",
            "Requirement already satisfied: zipp>=0.5 in /usr/local/lib/python3.6/dist-packages (from importlib-metadata; python_version < \"3.8\"->markdown>=2.6.8->tensorboard<1.16.0,>=1.15.0->tensorflow==1.15.0) (3.4.0)\n",
            "Building wheels for collected packages: gast\n",
            "  Building wheel for gast (setup.py) ... \u001b[?25l\u001b[?25hdone\n",
            "  Created wheel for gast: filename=gast-0.2.2-cp36-none-any.whl size=7540 sha256=7a80faff68a8bc6e4cf7b0284f740a93be7c4db36022cb69814847bb709301c2\n",
            "  Stored in directory: /root/.cache/pip/wheels/5c/2e/7e/a1d4d4fcebe6c381f378ce7743a3ced3699feb89bcfbdadadd\n",
            "Successfully built gast\n",
            "\u001b[31mERROR: tensorflow-probability 0.11.0 has requirement gast>=0.3.2, but you'll have gast 0.2.2 which is incompatible.\u001b[0m\n",
            "Installing collected packages: tensorflow-estimator, gast, tensorboard, keras-applications, tensorflow\n",
            "  Found existing installation: tensorflow-estimator 2.4.0\n",
            "    Uninstalling tensorflow-estimator-2.4.0:\n",
            "      Successfully uninstalled tensorflow-estimator-2.4.0\n",
            "  Found existing installation: gast 0.3.3\n",
            "    Uninstalling gast-0.3.3:\n",
            "      Successfully uninstalled gast-0.3.3\n",
            "  Found existing installation: tensorboard 2.4.0\n",
            "    Uninstalling tensorboard-2.4.0:\n",
            "      Successfully uninstalled tensorboard-2.4.0\n",
            "Successfully installed gast-0.2.2 keras-applications-1.0.8 tensorboard-1.15.0 tensorflow-1.15.0 tensorflow-estimator-1.15.1\n"
          ],
          "name": "stdout"
        }
      ]
    },
    {
      "cell_type": "code",
      "metadata": {
        "colab": {
          "base_uri": "https://localhost:8080/"
        },
        "id": "hV6HXvAkyUq8",
        "outputId": "6a70257d-6dda-4707-93e7-cddf777305ba"
      },
      "source": [
        "!wget https://storage.googleapis.com/bert_models/2018_10_18/uncased_L-12_H-768_A-12.zip\r\n",
        "!unzip uncased_L-12_H-768_A-12.zip"
      ],
      "execution_count": 4,
      "outputs": [
        {
          "output_type": "stream",
          "text": [
            "--2021-01-07 06:17:26--  https://storage.googleapis.com/bert_models/2018_10_18/uncased_L-12_H-768_A-12.zip\n",
            "Resolving storage.googleapis.com (storage.googleapis.com)... 74.125.142.128, 74.125.20.128, 74.125.195.128, ...\n",
            "Connecting to storage.googleapis.com (storage.googleapis.com)|74.125.142.128|:443... connected.\n",
            "HTTP request sent, awaiting response... 200 OK\n",
            "Length: 407727028 (389M) [application/zip]\n",
            "Saving to: ‘uncased_L-12_H-768_A-12.zip.1’\n",
            "\n",
            "uncased_L-12_H-768_ 100%[===================>] 388.84M   238MB/s    in 1.6s    \n",
            "\n",
            "2021-01-07 06:17:27 (238 MB/s) - ‘uncased_L-12_H-768_A-12.zip.1’ saved [407727028/407727028]\n",
            "\n",
            "Archive:  uncased_L-12_H-768_A-12.zip\n",
            "   creating: uncased_L-12_H-768_A-12/\n",
            "  inflating: uncased_L-12_H-768_A-12/bert_model.ckpt.meta  \n",
            "  inflating: uncased_L-12_H-768_A-12/bert_model.ckpt.data-00000-of-00001  \n",
            "  inflating: uncased_L-12_H-768_A-12/vocab.txt  \n",
            "  inflating: uncased_L-12_H-768_A-12/bert_model.ckpt.index  \n",
            "  inflating: uncased_L-12_H-768_A-12/bert_config.json  \n"
          ],
          "name": "stdout"
        }
      ]
    },
    {
      "cell_type": "code",
      "metadata": {
        "id": "Ssz-fhaOyZVB",
        "colab": {
          "base_uri": "https://localhost:8080/"
        },
        "outputId": "db1619e7-3f71-4921-95e1-06915fe8e016"
      },
      "source": [
        "%tensorflow_version 1.x\r\n",
        "!nohup bert-serving-start -model_dir=./uncased_L-12_H-768_A-12 > out.file 2>&1 &"
      ],
      "execution_count": 5,
      "outputs": [
        {
          "output_type": "stream",
          "text": [
            "TensorFlow 1.x selected.\n"
          ],
          "name": "stdout"
        }
      ]
    },
    {
      "cell_type": "code",
      "metadata": {
        "id": "D0jEkzKPyl7V"
      },
      "source": [
        "from bert_serving.client import BertClient\r\n",
        "bc = BertClient()"
      ],
      "execution_count": 6,
      "outputs": []
    },
    {
      "cell_type": "markdown",
      "metadata": {
        "id": "ufSQAmKi9Ebz"
      },
      "source": [
        "## Checking server and dimensions of vector"
      ]
    },
    {
      "cell_type": "code",
      "metadata": {
        "id": "DJc-ZfoyzHb6",
        "colab": {
          "base_uri": "https://localhost:8080/"
        },
        "outputId": "b3c11f75-13d9-4e6f-8901-5247da701735"
      },
      "source": [
        "encoding=bc.encode(['First do it'])\r\n",
        "print('Vector length: ',str(len(encoding[0])))"
      ],
      "execution_count": 7,
      "outputs": [
        {
          "output_type": "stream",
          "text": [
            "Vector length:  768\n"
          ],
          "name": "stdout"
        }
      ]
    },
    {
      "cell_type": "markdown",
      "metadata": {
        "id": "EfsVhaLY08lC"
      },
      "source": [
        "## Unzip the dataset"
      ]
    },
    {
      "cell_type": "code",
      "metadata": {
        "id": "9IEcAd0TzK29",
        "colab": {
          "base_uri": "https://localhost:8080/"
        },
        "outputId": "2dcefd83-edfe-4ba5-e195-70c13fb8ccce"
      },
      "source": [
        "!unzip COVID_19_dataset.zip"
      ],
      "execution_count": 8,
      "outputs": [
        {
          "output_type": "stream",
          "text": [
            "Archive:  COVID_19_dataset.zip\n",
            "   creating: COVID_19_dataset/\n",
            "   creating: COVID_19_dataset/documents/\n",
            "  inflating: COVID_19_dataset/documents/001.txt  \n",
            "  inflating: COVID_19_dataset/documents/002.txt  \n",
            "  inflating: COVID_19_dataset/documents/003.txt  \n",
            "  inflating: COVID_19_dataset/documents/004.txt  \n",
            "  inflating: COVID_19_dataset/documents/005.txt  \n",
            "  inflating: COVID_19_dataset/documents/006.txt  \n",
            "  inflating: COVID_19_dataset/documents/007.txt  \n",
            "  inflating: COVID_19_dataset/documents/008.txt  \n",
            "  inflating: COVID_19_dataset/documents/009.txt  \n",
            "  inflating: COVID_19_dataset/documents/010.txt  \n",
            "   creating: COVID_19_dataset/summary/\n",
            "  inflating: COVID_19_dataset/summary/001.txt  \n",
            "  inflating: COVID_19_dataset/summary/002.txt  \n",
            "  inflating: COVID_19_dataset/summary/003.txt  \n",
            "  inflating: COVID_19_dataset/summary/004.txt  \n",
            "  inflating: COVID_19_dataset/summary/005.txt  \n",
            "  inflating: COVID_19_dataset/summary/006.txt  \n",
            "  inflating: COVID_19_dataset/summary/007.txt  \n",
            "  inflating: COVID_19_dataset/summary/008.txt  \n",
            "  inflating: COVID_19_dataset/summary/009.txt  \n",
            "  inflating: COVID_19_dataset/summary/010.txt  \n"
          ],
          "name": "stdout"
        }
      ]
    },
    {
      "cell_type": "code",
      "metadata": {
        "id": "VNZiIJLv5D6z"
      },
      "source": [
        "import os\r\n",
        "import numpy as np\r\n",
        "import pandas as pd\r\n",
        "import nltk\r\n",
        "import re\r\n",
        "import sklearn\r\n",
        "from sklearn.metrics.pairwise import cosine_similarity"
      ],
      "execution_count": 9,
      "outputs": []
    },
    {
      "cell_type": "code",
      "metadata": {
        "colab": {
          "base_uri": "https://localhost:8080/"
        },
        "id": "tQt0or3ff1y9",
        "outputId": "64a1b1a8-f7f1-4db3-8037-11c5127e3489"
      },
      "source": [
        "nltk.download('punkt')"
      ],
      "execution_count": 10,
      "outputs": [
        {
          "output_type": "stream",
          "text": [
            "[nltk_data] Downloading package punkt to /root/nltk_data...\n",
            "[nltk_data]   Unzipping tokenizers/punkt.zip.\n"
          ],
          "name": "stdout"
        },
        {
          "output_type": "execute_result",
          "data": {
            "text/plain": [
              "True"
            ]
          },
          "metadata": {
            "tags": []
          },
          "execution_count": 10
        }
      ]
    },
    {
      "cell_type": "code",
      "metadata": {
        "id": "pDyA3zVqbzfh"
      },
      "source": [
        "def clean_sent(sentence):\r\n",
        "  sentence = sentence.lower().strip()\r\n",
        "  sentence = re.sub(r'[^a-z0-9\\s]', '', sentence)\r\n",
        "  return sentence"
      ],
      "execution_count": 11,
      "outputs": []
    },
    {
      "cell_type": "markdown",
      "metadata": {
        "id": "bAjj_p-M1DiQ"
      },
      "source": [
        "## Read the summary of each document"
      ]
    },
    {
      "cell_type": "code",
      "metadata": {
        "id": "n_OAxEoJ01cW"
      },
      "source": [
        "path='/content/COVID_19_dataset/summary/'\r\n",
        "filelist = os.listdir(path)\r\n",
        "sentences=[]\r\n",
        "cleaned=[]\r\n",
        "for file in filelist:\r\n",
        "    f = open(path+file, \"r\",encoding='utf-8',errors='ignore')\r\n",
        "    text=f.read()\r\n",
        "    sent_tokens = nltk.sent_tokenize(text)\r\n",
        "    for sentence in sent_tokens:\r\n",
        "      sentences.append(sentence)\r\n",
        "      cleaned_sent=clean_sent(sentence)\r\n",
        "      cleaned.append(cleaned_sent)"
      ],
      "execution_count": 12,
      "outputs": []
    },
    {
      "cell_type": "markdown",
      "metadata": {
        "id": "hb_68pb1Zq30"
      },
      "source": [
        "## Get BERT encodings"
      ]
    },
    {
      "cell_type": "code",
      "metadata": {
        "id": "poSrM7DiPwFz",
        "colab": {
          "base_uri": "https://localhost:8080/"
        },
        "outputId": "54eda714-9888-4238-d983-c5126750378a"
      },
      "source": [
        "bert_encoding=[]\r\n",
        "max=0\r\n",
        "for sent in sentences:\r\n",
        "  sent_encode=bc.encode([sent])\r\n",
        "  bert_encoding.append(sent_encode)"
      ],
      "execution_count": 13,
      "outputs": [
        {
          "output_type": "stream",
          "text": [
            "/usr/local/lib/python3.6/dist-packages/bert_serving/client/__init__.py:299: UserWarning: some of your sentences have more tokens than \"max_seq_len=25\" set on the server, as consequence you may get less-accurate or truncated embeddings.\n",
            "here is what you can do:\n",
            "- disable the length-check by create a new \"BertClient(check_length=False)\" when you do not want to display this warning\n",
            "- or, start a new server with a larger \"max_seq_len\"\n",
            "  '- or, start a new server with a larger \"max_seq_len\"' % self.length_limit)\n"
          ],
          "name": "stderr"
        }
      ]
    },
    {
      "cell_type": "markdown",
      "metadata": {
        "id": "lcqGqtYx7HFi"
      },
      "source": [
        "##Tabulate all Sentences"
      ]
    },
    {
      "cell_type": "code",
      "metadata": {
        "id": "vB1qjk8J2Ico"
      },
      "source": [
        "df=pd.DataFrame(sentences,columns=['Sentences'])\r\n",
        "df['Cleaned Sentences']=cleaned\r\n",
        "df['Encoding']=bert_encoding\r\n"
      ],
      "execution_count": 14,
      "outputs": []
    },
    {
      "cell_type": "code",
      "metadata": {
        "id": "w8Mv1TSi67X2",
        "colab": {
          "base_uri": "https://localhost:8080/",
          "height": 402
        },
        "outputId": "94601bd2-1e61-4b91-f2e9-265e825be999"
      },
      "source": [
        "df"
      ],
      "execution_count": 15,
      "outputs": [
        {
          "output_type": "execute_result",
          "data": {
            "text/html": [
              "<div>\n",
              "<style scoped>\n",
              "    .dataframe tbody tr th:only-of-type {\n",
              "        vertical-align: middle;\n",
              "    }\n",
              "\n",
              "    .dataframe tbody tr th {\n",
              "        vertical-align: top;\n",
              "    }\n",
              "\n",
              "    .dataframe thead th {\n",
              "        text-align: right;\n",
              "    }\n",
              "</style>\n",
              "<table border=\"1\" class=\"dataframe\">\n",
              "  <thead>\n",
              "    <tr style=\"text-align: right;\">\n",
              "      <th></th>\n",
              "      <th>Sentences</th>\n",
              "      <th>Cleaned Sentences</th>\n",
              "      <th>Encoding</th>\n",
              "    </tr>\n",
              "  </thead>\n",
              "  <tbody>\n",
              "    <tr>\n",
              "      <th>0</th>\n",
              "      <td>New Zealand takes early and hard action to tac...</td>\n",
              "      <td>new zealand takes early and hard action to tac...</td>\n",
              "      <td>[[0.13820302, -0.36564663, -0.028271142, -0.04...</td>\n",
              "    </tr>\n",
              "    <tr>\n",
              "      <th>1</th>\n",
              "      <td>Three days after WHO declared the coronavirus ...</td>\n",
              "      <td>three days after who declared the coronavirus ...</td>\n",
              "      <td>[[-0.15368187, -0.031198971, 0.08703403, -0.36...</td>\n",
              "    </tr>\n",
              "    <tr>\n",
              "      <th>2</th>\n",
              "      <td>So New Zealand took a precautionary approach a...</td>\n",
              "      <td>so new zealand took a precautionary approach a...</td>\n",
              "      <td>[[-0.16972026, 0.058224097, 0.012279085, -0.08...</td>\n",
              "    </tr>\n",
              "    <tr>\n",
              "      <th>3</th>\n",
              "      <td>WHO Regional Director for the Western Pacific,...</td>\n",
              "      <td>who regional director for the western pacific ...</td>\n",
              "      <td>[[-0.3169862, -0.18664028, -0.47843984, -0.115...</td>\n",
              "    </tr>\n",
              "    <tr>\n",
              "      <th>4</th>\n",
              "      <td>Concerned that COVID-19 could be transmitted t...</td>\n",
              "      <td>concerned that covid19 could be transmitted th...</td>\n",
              "      <td>[[-0.21713886, -0.28277543, 0.046084527, 0.086...</td>\n",
              "    </tr>\n",
              "    <tr>\n",
              "      <th>...</th>\n",
              "      <td>...</td>\n",
              "      <td>...</td>\n",
              "      <td>...</td>\n",
              "    </tr>\n",
              "    <tr>\n",
              "      <th>61</th>\n",
              "      <td>Although this is a global crisis, many countri...</td>\n",
              "      <td>although this is a global crisis many countrie...</td>\n",
              "      <td>[[0.17120686, 0.18878482, -0.039494384, 0.0552...</td>\n",
              "    </tr>\n",
              "    <tr>\n",
              "      <th>62</th>\n",
              "      <td>Second, we must not backslide on our critical ...</td>\n",
              "      <td>second we must not backslide on our critical h...</td>\n",
              "      <td>[[0.3668857, 0.18377249, -0.31061685, 0.295898...</td>\n",
              "    </tr>\n",
              "    <tr>\n",
              "      <th>63</th>\n",
              "      <td>Since May, Member States have adopted a number...</td>\n",
              "      <td>since may member states have adopted a number ...</td>\n",
              "      <td>[[-0.21578173, -0.12988771, 0.12567338, -0.235...</td>\n",
              "    </tr>\n",
              "    <tr>\n",
              "      <th>64</th>\n",
              "      <td>Third, we must prepare for the next pandemic now.</td>\n",
              "      <td>third we must prepare for the next pandemic now</td>\n",
              "      <td>[[0.30259845, -0.49360457, -0.20330983, 0.0981...</td>\n",
              "    </tr>\n",
              "    <tr>\n",
              "      <th>65</th>\n",
              "      <td>he WHA will consider a draft resolution (EB146...</td>\n",
              "      <td>he wha will consider a draft resolution eb146r...</td>\n",
              "      <td>[[0.20872515, -0.60082704, 0.41249534, 0.19138...</td>\n",
              "    </tr>\n",
              "  </tbody>\n",
              "</table>\n",
              "<p>66 rows × 3 columns</p>\n",
              "</div>"
            ],
            "text/plain": [
              "                                            Sentences  ...                                           Encoding\n",
              "0   New Zealand takes early and hard action to tac...  ...  [[0.13820302, -0.36564663, -0.028271142, -0.04...\n",
              "1   Three days after WHO declared the coronavirus ...  ...  [[-0.15368187, -0.031198971, 0.08703403, -0.36...\n",
              "2   So New Zealand took a precautionary approach a...  ...  [[-0.16972026, 0.058224097, 0.012279085, -0.08...\n",
              "3   WHO Regional Director for the Western Pacific,...  ...  [[-0.3169862, -0.18664028, -0.47843984, -0.115...\n",
              "4   Concerned that COVID-19 could be transmitted t...  ...  [[-0.21713886, -0.28277543, 0.046084527, 0.086...\n",
              "..                                                ...  ...                                                ...\n",
              "61  Although this is a global crisis, many countri...  ...  [[0.17120686, 0.18878482, -0.039494384, 0.0552...\n",
              "62  Second, we must not backslide on our critical ...  ...  [[0.3668857, 0.18377249, -0.31061685, 0.295898...\n",
              "63  Since May, Member States have adopted a number...  ...  [[-0.21578173, -0.12988771, 0.12567338, -0.235...\n",
              "64  Third, we must prepare for the next pandemic now.  ...  [[0.30259845, -0.49360457, -0.20330983, 0.0981...\n",
              "65  he WHA will consider a draft resolution (EB146...  ...  [[0.20872515, -0.60082704, 0.41249534, 0.19138...\n",
              "\n",
              "[66 rows x 3 columns]"
            ]
          },
          "metadata": {
            "tags": []
          },
          "execution_count": 15
        }
      ]
    },
    {
      "cell_type": "code",
      "metadata": {
        "id": "87WMwAzka5YM"
      },
      "source": [
        "def getAnswer(question):\r\n",
        "  ques_encoding=bc.encode([question])\r\n",
        "  temp=df.copy()\r\n",
        "  sim=[]\r\n",
        "  for line in bert_encoding:\r\n",
        "    val=cosine_similarity(ques_encoding,line)\r\n",
        "    sim.append(val[0][0])\r\n",
        "  temp['Similarity']=sim\r\n",
        "  temp=temp.sort_values(by='Similarity',ascending=False)\r\n",
        "  ans=\"\"\r\n",
        "  if temp['Similarity'].iloc[0]>0.90:\r\n",
        "    ans=ans+temp['Sentences'].iloc[0]\r\n",
        "  elif temp['Similarity'].iloc[0] <0.90:\r\n",
        "    c=0\r\n",
        "    acc=0\r\n",
        "    for i in temp.values:\r\n",
        "        ans=ans+i[0]\r\n",
        "        c+=1\r\n",
        "        acc+=i[3]\r\n",
        "        if c==5:\r\n",
        "          acc=acc/5\r\n",
        "          break\r\n",
        "  return ans,acc"
      ],
      "execution_count": 16,
      "outputs": []
    },
    {
      "cell_type": "code",
      "metadata": {
        "id": "OQN4YWaeZle9",
        "colab": {
          "base_uri": "https://localhost:8080/"
        },
        "outputId": "8402cf79-bd28-4c13-e167-2c22edfff9b8"
      },
      "source": [
        "question='What did bill gates say about covid-19'\r\n",
        "question=clean_sent(question)\r\n",
        "ans,acc=getAnswer(question)\r\n",
        "print('Question:',question)\r\n",
        "print('Answer:',ans)\r\n",
        "print('Avg Accuracy:',acc)"
      ],
      "execution_count": 22,
      "outputs": [
        {
          "output_type": "stream",
          "text": [
            "Question: what did bill gates say about covid19\n",
            "Answer:  Coronavirus: Inside test-and-trace - how the 'world beater' went wrong.Coronavirus vaccines: Will any countries get left out?First, we can beat COVID-19 with science, solutions and solidarity.So it is \"Covid-19 Jabs For All By Spring\" in the Daily Express, and \"Virus Jabs For All By April\" in the Daily Mirror.Coronavirus: How to stay cool in a face mask as hot UK weather forecast.\n",
            "Avg Accuracy: 0.7239524841308593\n"
          ],
          "name": "stdout"
        }
      ]
    },
    {
      "cell_type": "code",
      "metadata": {
        "id": "wRD-mIPagMoG"
      },
      "source": [
        ""
      ],
      "execution_count": null,
      "outputs": []
    }
  ]
}