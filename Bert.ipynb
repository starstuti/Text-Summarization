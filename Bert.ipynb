{
  "nbformat": 4,
  "nbformat_minor": 0,
  "metadata": {
    "colab": {
      "name": "Bert",
      "provenance": []
    },
    "kernelspec": {
      "name": "python3",
      "display_name": "Python 3",
      "language": "python"
    },
    "widgets": {
      "application/vnd.jupyter.widget-state+json": {
        "a70ac893da394108bab4928abc1e3fd1": {
          "model_module": "@jupyter-widgets/controls",
          "model_name": "HBoxModel",
          "state": {
            "_view_name": "HBoxView",
            "_dom_classes": [],
            "_model_name": "HBoxModel",
            "_view_module": "@jupyter-widgets/controls",
            "_model_module_version": "1.5.0",
            "_view_count": null,
            "_view_module_version": "1.5.0",
            "box_style": "",
            "layout": "IPY_MODEL_73ea2f304c5d492caecb6b2ba5f28e08",
            "_model_module": "@jupyter-widgets/controls",
            "children": [
              "IPY_MODEL_64a10aa246a847fab6753df6b3a7de66",
              "IPY_MODEL_7b47275d483a4e38bf5afa4fe0a00f3b"
            ]
          }
        },
        "73ea2f304c5d492caecb6b2ba5f28e08": {
          "model_module": "@jupyter-widgets/base",
          "model_name": "LayoutModel",
          "state": {
            "_view_name": "LayoutView",
            "grid_template_rows": null,
            "right": null,
            "justify_content": null,
            "_view_module": "@jupyter-widgets/base",
            "overflow": null,
            "_model_module_version": "1.2.0",
            "_view_count": null,
            "flex_flow": null,
            "width": null,
            "min_width": null,
            "border": null,
            "align_items": null,
            "bottom": null,
            "_model_module": "@jupyter-widgets/base",
            "top": null,
            "grid_column": null,
            "overflow_y": null,
            "overflow_x": null,
            "grid_auto_flow": null,
            "grid_area": null,
            "grid_template_columns": null,
            "flex": null,
            "_model_name": "LayoutModel",
            "justify_items": null,
            "grid_row": null,
            "max_height": null,
            "align_content": null,
            "visibility": null,
            "align_self": null,
            "height": null,
            "min_height": null,
            "padding": null,
            "grid_auto_rows": null,
            "grid_gap": null,
            "max_width": null,
            "order": null,
            "_view_module_version": "1.2.0",
            "grid_template_areas": null,
            "object_position": null,
            "object_fit": null,
            "grid_auto_columns": null,
            "margin": null,
            "display": null,
            "left": null
          }
        },
        "64a10aa246a847fab6753df6b3a7de66": {
          "model_module": "@jupyter-widgets/controls",
          "model_name": "FloatProgressModel",
          "state": {
            "_view_name": "ProgressView",
            "style": "IPY_MODEL_8b7a208eb78245baaa338adaccf74cc2",
            "_dom_classes": [],
            "description": "Downloading: 100%",
            "_model_name": "FloatProgressModel",
            "bar_style": "success",
            "max": 433,
            "_view_module": "@jupyter-widgets/controls",
            "_model_module_version": "1.5.0",
            "value": 433,
            "_view_count": null,
            "_view_module_version": "1.5.0",
            "orientation": "horizontal",
            "min": 0,
            "description_tooltip": null,
            "_model_module": "@jupyter-widgets/controls",
            "layout": "IPY_MODEL_eabce28d40594d31810771076d10b846"
          }
        },
        "7b47275d483a4e38bf5afa4fe0a00f3b": {
          "model_module": "@jupyter-widgets/controls",
          "model_name": "HTMLModel",
          "state": {
            "_view_name": "HTMLView",
            "style": "IPY_MODEL_35601169efd741f29e1d5f5c6a50c235",
            "_dom_classes": [],
            "description": "",
            "_model_name": "HTMLModel",
            "placeholder": "​",
            "_view_module": "@jupyter-widgets/controls",
            "_model_module_version": "1.5.0",
            "value": " 433/433 [00:00&lt;00:00, 923B/s]",
            "_view_count": null,
            "_view_module_version": "1.5.0",
            "description_tooltip": null,
            "_model_module": "@jupyter-widgets/controls",
            "layout": "IPY_MODEL_afaeef81acae4b9e936ccf0ee6dce8f0"
          }
        },
        "8b7a208eb78245baaa338adaccf74cc2": {
          "model_module": "@jupyter-widgets/controls",
          "model_name": "ProgressStyleModel",
          "state": {
            "_view_name": "StyleView",
            "_model_name": "ProgressStyleModel",
            "description_width": "initial",
            "_view_module": "@jupyter-widgets/base",
            "_model_module_version": "1.5.0",
            "_view_count": null,
            "_view_module_version": "1.2.0",
            "bar_color": null,
            "_model_module": "@jupyter-widgets/controls"
          }
        },
        "eabce28d40594d31810771076d10b846": {
          "model_module": "@jupyter-widgets/base",
          "model_name": "LayoutModel",
          "state": {
            "_view_name": "LayoutView",
            "grid_template_rows": null,
            "right": null,
            "justify_content": null,
            "_view_module": "@jupyter-widgets/base",
            "overflow": null,
            "_model_module_version": "1.2.0",
            "_view_count": null,
            "flex_flow": null,
            "width": null,
            "min_width": null,
            "border": null,
            "align_items": null,
            "bottom": null,
            "_model_module": "@jupyter-widgets/base",
            "top": null,
            "grid_column": null,
            "overflow_y": null,
            "overflow_x": null,
            "grid_auto_flow": null,
            "grid_area": null,
            "grid_template_columns": null,
            "flex": null,
            "_model_name": "LayoutModel",
            "justify_items": null,
            "grid_row": null,
            "max_height": null,
            "align_content": null,
            "visibility": null,
            "align_self": null,
            "height": null,
            "min_height": null,
            "padding": null,
            "grid_auto_rows": null,
            "grid_gap": null,
            "max_width": null,
            "order": null,
            "_view_module_version": "1.2.0",
            "grid_template_areas": null,
            "object_position": null,
            "object_fit": null,
            "grid_auto_columns": null,
            "margin": null,
            "display": null,
            "left": null
          }
        },
        "35601169efd741f29e1d5f5c6a50c235": {
          "model_module": "@jupyter-widgets/controls",
          "model_name": "DescriptionStyleModel",
          "state": {
            "_view_name": "StyleView",
            "_model_name": "DescriptionStyleModel",
            "description_width": "",
            "_view_module": "@jupyter-widgets/base",
            "_model_module_version": "1.5.0",
            "_view_count": null,
            "_view_module_version": "1.2.0",
            "_model_module": "@jupyter-widgets/controls"
          }
        },
        "afaeef81acae4b9e936ccf0ee6dce8f0": {
          "model_module": "@jupyter-widgets/base",
          "model_name": "LayoutModel",
          "state": {
            "_view_name": "LayoutView",
            "grid_template_rows": null,
            "right": null,
            "justify_content": null,
            "_view_module": "@jupyter-widgets/base",
            "overflow": null,
            "_model_module_version": "1.2.0",
            "_view_count": null,
            "flex_flow": null,
            "width": null,
            "min_width": null,
            "border": null,
            "align_items": null,
            "bottom": null,
            "_model_module": "@jupyter-widgets/base",
            "top": null,
            "grid_column": null,
            "overflow_y": null,
            "overflow_x": null,
            "grid_auto_flow": null,
            "grid_area": null,
            "grid_template_columns": null,
            "flex": null,
            "_model_name": "LayoutModel",
            "justify_items": null,
            "grid_row": null,
            "max_height": null,
            "align_content": null,
            "visibility": null,
            "align_self": null,
            "height": null,
            "min_height": null,
            "padding": null,
            "grid_auto_rows": null,
            "grid_gap": null,
            "max_width": null,
            "order": null,
            "_view_module_version": "1.2.0",
            "grid_template_areas": null,
            "object_position": null,
            "object_fit": null,
            "grid_auto_columns": null,
            "margin": null,
            "display": null,
            "left": null
          }
        },
        "90bdaa34446743f298b27653e0c65549": {
          "model_module": "@jupyter-widgets/controls",
          "model_name": "HBoxModel",
          "state": {
            "_view_name": "HBoxView",
            "_dom_classes": [],
            "_model_name": "HBoxModel",
            "_view_module": "@jupyter-widgets/controls",
            "_model_module_version": "1.5.0",
            "_view_count": null,
            "_view_module_version": "1.5.0",
            "box_style": "",
            "layout": "IPY_MODEL_6561782fa82a4d999feb9ad13e7f43c6",
            "_model_module": "@jupyter-widgets/controls",
            "children": [
              "IPY_MODEL_3c4479aa326543b8aa7c60649f3e1eb9",
              "IPY_MODEL_2a31f8766f5a4595becdbe6a541ec1c5"
            ]
          }
        },
        "6561782fa82a4d999feb9ad13e7f43c6": {
          "model_module": "@jupyter-widgets/base",
          "model_name": "LayoutModel",
          "state": {
            "_view_name": "LayoutView",
            "grid_template_rows": null,
            "right": null,
            "justify_content": null,
            "_view_module": "@jupyter-widgets/base",
            "overflow": null,
            "_model_module_version": "1.2.0",
            "_view_count": null,
            "flex_flow": null,
            "width": null,
            "min_width": null,
            "border": null,
            "align_items": null,
            "bottom": null,
            "_model_module": "@jupyter-widgets/base",
            "top": null,
            "grid_column": null,
            "overflow_y": null,
            "overflow_x": null,
            "grid_auto_flow": null,
            "grid_area": null,
            "grid_template_columns": null,
            "flex": null,
            "_model_name": "LayoutModel",
            "justify_items": null,
            "grid_row": null,
            "max_height": null,
            "align_content": null,
            "visibility": null,
            "align_self": null,
            "height": null,
            "min_height": null,
            "padding": null,
            "grid_auto_rows": null,
            "grid_gap": null,
            "max_width": null,
            "order": null,
            "_view_module_version": "1.2.0",
            "grid_template_areas": null,
            "object_position": null,
            "object_fit": null,
            "grid_auto_columns": null,
            "margin": null,
            "display": null,
            "left": null
          }
        },
        "3c4479aa326543b8aa7c60649f3e1eb9": {
          "model_module": "@jupyter-widgets/controls",
          "model_name": "FloatProgressModel",
          "state": {
            "_view_name": "ProgressView",
            "style": "IPY_MODEL_63e183d205994e75b34ec6276cc509ca",
            "_dom_classes": [],
            "description": "Downloading: 100%",
            "_model_name": "FloatProgressModel",
            "bar_style": "success",
            "max": 440473133,
            "_view_module": "@jupyter-widgets/controls",
            "_model_module_version": "1.5.0",
            "value": 440473133,
            "_view_count": null,
            "_view_module_version": "1.5.0",
            "orientation": "horizontal",
            "min": 0,
            "description_tooltip": null,
            "_model_module": "@jupyter-widgets/controls",
            "layout": "IPY_MODEL_8a0fd530bedb42329c5381dc0ddddcae"
          }
        },
        "2a31f8766f5a4595becdbe6a541ec1c5": {
          "model_module": "@jupyter-widgets/controls",
          "model_name": "HTMLModel",
          "state": {
            "_view_name": "HTMLView",
            "style": "IPY_MODEL_de471aa935aa4791aab9b148d0db978c",
            "_dom_classes": [],
            "description": "",
            "_model_name": "HTMLModel",
            "placeholder": "​",
            "_view_module": "@jupyter-widgets/controls",
            "_model_module_version": "1.5.0",
            "value": " 440M/440M [00:09&lt;00:00, 48.4MB/s]",
            "_view_count": null,
            "_view_module_version": "1.5.0",
            "description_tooltip": null,
            "_model_module": "@jupyter-widgets/controls",
            "layout": "IPY_MODEL_50f44fd8bb0d4c9ca5f696e3363193ae"
          }
        },
        "63e183d205994e75b34ec6276cc509ca": {
          "model_module": "@jupyter-widgets/controls",
          "model_name": "ProgressStyleModel",
          "state": {
            "_view_name": "StyleView",
            "_model_name": "ProgressStyleModel",
            "description_width": "initial",
            "_view_module": "@jupyter-widgets/base",
            "_model_module_version": "1.5.0",
            "_view_count": null,
            "_view_module_version": "1.2.0",
            "bar_color": null,
            "_model_module": "@jupyter-widgets/controls"
          }
        },
        "8a0fd530bedb42329c5381dc0ddddcae": {
          "model_module": "@jupyter-widgets/base",
          "model_name": "LayoutModel",
          "state": {
            "_view_name": "LayoutView",
            "grid_template_rows": null,
            "right": null,
            "justify_content": null,
            "_view_module": "@jupyter-widgets/base",
            "overflow": null,
            "_model_module_version": "1.2.0",
            "_view_count": null,
            "flex_flow": null,
            "width": null,
            "min_width": null,
            "border": null,
            "align_items": null,
            "bottom": null,
            "_model_module": "@jupyter-widgets/base",
            "top": null,
            "grid_column": null,
            "overflow_y": null,
            "overflow_x": null,
            "grid_auto_flow": null,
            "grid_area": null,
            "grid_template_columns": null,
            "flex": null,
            "_model_name": "LayoutModel",
            "justify_items": null,
            "grid_row": null,
            "max_height": null,
            "align_content": null,
            "visibility": null,
            "align_self": null,
            "height": null,
            "min_height": null,
            "padding": null,
            "grid_auto_rows": null,
            "grid_gap": null,
            "max_width": null,
            "order": null,
            "_view_module_version": "1.2.0",
            "grid_template_areas": null,
            "object_position": null,
            "object_fit": null,
            "grid_auto_columns": null,
            "margin": null,
            "display": null,
            "left": null
          }
        },
        "de471aa935aa4791aab9b148d0db978c": {
          "model_module": "@jupyter-widgets/controls",
          "model_name": "DescriptionStyleModel",
          "state": {
            "_view_name": "StyleView",
            "_model_name": "DescriptionStyleModel",
            "description_width": "",
            "_view_module": "@jupyter-widgets/base",
            "_model_module_version": "1.5.0",
            "_view_count": null,
            "_view_module_version": "1.2.0",
            "_model_module": "@jupyter-widgets/controls"
          }
        },
        "50f44fd8bb0d4c9ca5f696e3363193ae": {
          "model_module": "@jupyter-widgets/base",
          "model_name": "LayoutModel",
          "state": {
            "_view_name": "LayoutView",
            "grid_template_rows": null,
            "right": null,
            "justify_content": null,
            "_view_module": "@jupyter-widgets/base",
            "overflow": null,
            "_model_module_version": "1.2.0",
            "_view_count": null,
            "flex_flow": null,
            "width": null,
            "min_width": null,
            "border": null,
            "align_items": null,
            "bottom": null,
            "_model_module": "@jupyter-widgets/base",
            "top": null,
            "grid_column": null,
            "overflow_y": null,
            "overflow_x": null,
            "grid_auto_flow": null,
            "grid_area": null,
            "grid_template_columns": null,
            "flex": null,
            "_model_name": "LayoutModel",
            "justify_items": null,
            "grid_row": null,
            "max_height": null,
            "align_content": null,
            "visibility": null,
            "align_self": null,
            "height": null,
            "min_height": null,
            "padding": null,
            "grid_auto_rows": null,
            "grid_gap": null,
            "max_width": null,
            "order": null,
            "_view_module_version": "1.2.0",
            "grid_template_areas": null,
            "object_position": null,
            "object_fit": null,
            "grid_auto_columns": null,
            "margin": null,
            "display": null,
            "left": null
          }
        },
        "67c64c9c957b48efa91bfde4a62abc97": {
          "model_module": "@jupyter-widgets/controls",
          "model_name": "HBoxModel",
          "state": {
            "_view_name": "HBoxView",
            "_dom_classes": [],
            "_model_name": "HBoxModel",
            "_view_module": "@jupyter-widgets/controls",
            "_model_module_version": "1.5.0",
            "_view_count": null,
            "_view_module_version": "1.5.0",
            "box_style": "",
            "layout": "IPY_MODEL_53dd5b4e384a433c96b8e929ddb2eb22",
            "_model_module": "@jupyter-widgets/controls",
            "children": [
              "IPY_MODEL_d934890c229b4bb4b447f822d2779648",
              "IPY_MODEL_24cc29c520364d04b4d5b470bc717fb5"
            ]
          }
        },
        "53dd5b4e384a433c96b8e929ddb2eb22": {
          "model_module": "@jupyter-widgets/base",
          "model_name": "LayoutModel",
          "state": {
            "_view_name": "LayoutView",
            "grid_template_rows": null,
            "right": null,
            "justify_content": null,
            "_view_module": "@jupyter-widgets/base",
            "overflow": null,
            "_model_module_version": "1.2.0",
            "_view_count": null,
            "flex_flow": null,
            "width": null,
            "min_width": null,
            "border": null,
            "align_items": null,
            "bottom": null,
            "_model_module": "@jupyter-widgets/base",
            "top": null,
            "grid_column": null,
            "overflow_y": null,
            "overflow_x": null,
            "grid_auto_flow": null,
            "grid_area": null,
            "grid_template_columns": null,
            "flex": null,
            "_model_name": "LayoutModel",
            "justify_items": null,
            "grid_row": null,
            "max_height": null,
            "align_content": null,
            "visibility": null,
            "align_self": null,
            "height": null,
            "min_height": null,
            "padding": null,
            "grid_auto_rows": null,
            "grid_gap": null,
            "max_width": null,
            "order": null,
            "_view_module_version": "1.2.0",
            "grid_template_areas": null,
            "object_position": null,
            "object_fit": null,
            "grid_auto_columns": null,
            "margin": null,
            "display": null,
            "left": null
          }
        },
        "d934890c229b4bb4b447f822d2779648": {
          "model_module": "@jupyter-widgets/controls",
          "model_name": "FloatProgressModel",
          "state": {
            "_view_name": "ProgressView",
            "style": "IPY_MODEL_b2f0f4b718ec44869d8158e5f6509bb5",
            "_dom_classes": [],
            "description": "Downloading: 100%",
            "_model_name": "FloatProgressModel",
            "bar_style": "success",
            "max": 231508,
            "_view_module": "@jupyter-widgets/controls",
            "_model_module_version": "1.5.0",
            "value": 231508,
            "_view_count": null,
            "_view_module_version": "1.5.0",
            "orientation": "horizontal",
            "min": 0,
            "description_tooltip": null,
            "_model_module": "@jupyter-widgets/controls",
            "layout": "IPY_MODEL_fddf2c2178de448b8b3cf007396068a6"
          }
        },
        "24cc29c520364d04b4d5b470bc717fb5": {
          "model_module": "@jupyter-widgets/controls",
          "model_name": "HTMLModel",
          "state": {
            "_view_name": "HTMLView",
            "style": "IPY_MODEL_0ef37f20aefd4ecda99b24bff8a46904",
            "_dom_classes": [],
            "description": "",
            "_model_name": "HTMLModel",
            "placeholder": "​",
            "_view_module": "@jupyter-widgets/controls",
            "_model_module_version": "1.5.0",
            "value": " 232k/232k [00:00&lt;00:00, 801kB/s]",
            "_view_count": null,
            "_view_module_version": "1.5.0",
            "description_tooltip": null,
            "_model_module": "@jupyter-widgets/controls",
            "layout": "IPY_MODEL_1be5008fa98e4a56ac0c5761895f0512"
          }
        },
        "b2f0f4b718ec44869d8158e5f6509bb5": {
          "model_module": "@jupyter-widgets/controls",
          "model_name": "ProgressStyleModel",
          "state": {
            "_view_name": "StyleView",
            "_model_name": "ProgressStyleModel",
            "description_width": "initial",
            "_view_module": "@jupyter-widgets/base",
            "_model_module_version": "1.5.0",
            "_view_count": null,
            "_view_module_version": "1.2.0",
            "bar_color": null,
            "_model_module": "@jupyter-widgets/controls"
          }
        },
        "fddf2c2178de448b8b3cf007396068a6": {
          "model_module": "@jupyter-widgets/base",
          "model_name": "LayoutModel",
          "state": {
            "_view_name": "LayoutView",
            "grid_template_rows": null,
            "right": null,
            "justify_content": null,
            "_view_module": "@jupyter-widgets/base",
            "overflow": null,
            "_model_module_version": "1.2.0",
            "_view_count": null,
            "flex_flow": null,
            "width": null,
            "min_width": null,
            "border": null,
            "align_items": null,
            "bottom": null,
            "_model_module": "@jupyter-widgets/base",
            "top": null,
            "grid_column": null,
            "overflow_y": null,
            "overflow_x": null,
            "grid_auto_flow": null,
            "grid_area": null,
            "grid_template_columns": null,
            "flex": null,
            "_model_name": "LayoutModel",
            "justify_items": null,
            "grid_row": null,
            "max_height": null,
            "align_content": null,
            "visibility": null,
            "align_self": null,
            "height": null,
            "min_height": null,
            "padding": null,
            "grid_auto_rows": null,
            "grid_gap": null,
            "max_width": null,
            "order": null,
            "_view_module_version": "1.2.0",
            "grid_template_areas": null,
            "object_position": null,
            "object_fit": null,
            "grid_auto_columns": null,
            "margin": null,
            "display": null,
            "left": null
          }
        },
        "0ef37f20aefd4ecda99b24bff8a46904": {
          "model_module": "@jupyter-widgets/controls",
          "model_name": "DescriptionStyleModel",
          "state": {
            "_view_name": "StyleView",
            "_model_name": "DescriptionStyleModel",
            "description_width": "",
            "_view_module": "@jupyter-widgets/base",
            "_model_module_version": "1.5.0",
            "_view_count": null,
            "_view_module_version": "1.2.0",
            "_model_module": "@jupyter-widgets/controls"
          }
        },
        "1be5008fa98e4a56ac0c5761895f0512": {
          "model_module": "@jupyter-widgets/base",
          "model_name": "LayoutModel",
          "state": {
            "_view_name": "LayoutView",
            "grid_template_rows": null,
            "right": null,
            "justify_content": null,
            "_view_module": "@jupyter-widgets/base",
            "overflow": null,
            "_model_module_version": "1.2.0",
            "_view_count": null,
            "flex_flow": null,
            "width": null,
            "min_width": null,
            "border": null,
            "align_items": null,
            "bottom": null,
            "_model_module": "@jupyter-widgets/base",
            "top": null,
            "grid_column": null,
            "overflow_y": null,
            "overflow_x": null,
            "grid_auto_flow": null,
            "grid_area": null,
            "grid_template_columns": null,
            "flex": null,
            "_model_name": "LayoutModel",
            "justify_items": null,
            "grid_row": null,
            "max_height": null,
            "align_content": null,
            "visibility": null,
            "align_self": null,
            "height": null,
            "min_height": null,
            "padding": null,
            "grid_auto_rows": null,
            "grid_gap": null,
            "max_width": null,
            "order": null,
            "_view_module_version": "1.2.0",
            "grid_template_areas": null,
            "object_position": null,
            "object_fit": null,
            "grid_auto_columns": null,
            "margin": null,
            "display": null,
            "left": null
          }
        }
      }
    }
  },
  "cells": [
    {
      "cell_type": "code",
      "metadata": {
        "colab": {
          "base_uri": "https://localhost:8080/"
        },
        "id": "Cb2lxLniNr_w",
        "outputId": "1b9cba22-1444-427a-a7f7-aebe43b51371"
      },
      "source": [
        "# !pip install transformers"
      ],
      "execution_count": 2,
      "outputs": []
    },
    {
      "cell_type": "code",
      "metadata": {
        "id": "SdTbrfdrLTqA"
      },
      "source": [
        "import torch\r\n",
        "from transformers import BertModel, BertConfig, BertTokenizer"
      ],
      "execution_count": 1,
      "outputs": []
    },
    {
      "cell_type": "code",
      "metadata": {
        "id": "Es3P15qrLXK9"
      },
      "source": [
        "# utility function for getting segments\r\n",
        "def get_segments(tokens):\r\n",
        "    # print(\"get_segments\")\r\n",
        "    print(tokens)\r\n",
        "    seg_ids = []\r\n",
        "    current_seg_id = 0\r\n",
        "    for tok in tokens:\r\n",
        "        seg_ids.append(current_seg_id)\r\n",
        "        if tok == \"[SEP]\":\r\n",
        "            current_seg_id = 1-current_seg_id \r\n",
        "    return (seg_ids)"
      ],
      "execution_count": 2,
      "outputs": [
        {
          "output_type": "stream",
          "name": "stderr",
          "text": [
            "C:\\Users\\Priyanka\\AppData\\Local\\Programs\\Python\\Python37\\lib\\site-packages\\ipykernel\\ipkernel.py:287: DeprecationWarning: `should_run_async` will not call `transform_cell` automatically in the future. Please pass the result to `transformed_cell` argument and any exception that happen during thetransform in `preprocessing_exc_tuple` in IPython 7.17 and above.\n  and should_run_async(code)\n"
          ]
        }
      ]
    },
    {
      "cell_type": "code",
      "metadata": {
        "id": "NOjM3txFLZmA"
      },
      "source": [
        "def get_ids(tokens, tokenizer):\r\n",
        "    return tokenizer.convert_tokens_to_ids(tokens)"
      ],
      "execution_count": 3,
      "outputs": []
    },
    {
      "cell_type": "code",
      "metadata": {
        "id": "-mBZOpH8LcF1"
      },
      "source": [
        "def encode_sentence(sent, tokenizer):\r\n",
        "    return [\"[CLS]\"] + tokenizer.tokenize(sent) + [\"[SEP]\"]"
      ],
      "execution_count": 4,
      "outputs": []
    },
    {
      "cell_type": "code",
      "metadata": {
        "id": "bYMJXOmdLewf"
      },
      "source": [
        "def get_model(model_string = 'bert-base-uncased'):\r\n",
        "  config = BertConfig.from_pretrained(model_string, output_hidden_states=True)\r\n",
        "  model = BertModel.from_pretrained(model_string, config=config)\r\n",
        "  tokenizer = BertTokenizer.from_pretrained(model_string)\r\n",
        "  return (model, tokenizer, config)"
      ],
      "execution_count": 5,
      "outputs": []
    },
    {
      "cell_type": "code",
      "metadata": {
        "id": "dxu0zT2KLg22"
      },
      "source": [
        "def get_sentence_embedding(sent, model, tokenizer, config):\n",
        "\n",
        "  tokens = encode_sentence(sent, tokenizer)\n",
        "  segments_idx = get_segments(tokens)\n",
        "  indexed_tokens = tokenizer.convert_tokens_to_ids(tokens)\n",
        "  tokens_tensor = torch.tensor([indexed_tokens])\n",
        "  segments_tensors = torch.tensor([segments_idx])\n",
        "  model.eval()\n",
        "\n",
        "  with torch.no_grad():\n",
        "    outputs  = model(tokens_tensor, segments_tensors)\n",
        "  embeddings_of_last_layer = outputs[0]\n",
        "  cls_embeddings = embeddings_of_last_layer[0]\n",
        "  last_hidden_states = outputs[0] \n",
        "  hidden_states = outputs[2]\n",
        "  embedding_output = hidden_states[0]\n",
        "  encoded_layers = attention_hidden_states = hidden_states[1:]\n",
        "  # BERT has twelve (in this case) layers, we are considering Second Last layer.\n",
        "  token_vecs = encoded_layers[10][0] # encoded_layers[11][0]\n",
        "  # token_vecs = cls_embeddings\n",
        "  sentence_embedding = torch.mean(token_vecs, dim=0) # Calculating average across the sentence.\n",
        "  return(sentence_embedding)"
      ],
      "execution_count": 6,
      "outputs": []
    },
    {
      "cell_type": "code",
      "metadata": {
        "id": "MOpI6EdaLjHP"
      },
      "source": [
        "def get_document_embedding(lstdocuments, model, tokenizer, config ):\r\n",
        "  docembeddings = []\r\n",
        "  for doc in lstdocuments:\r\n",
        "    docembeddings.append(get_sentence_embedding(doc, model, tokenizer, config))\r\n",
        "    \r\n",
        "  return(docembeddings)"
      ],
      "execution_count": 7,
      "outputs": []
    },
    {
      "cell_type": "code",
      "metadata": {
        "id": "9WrNozQTLltf"
      },
      "source": [
        "lst_corpus = []\n",
        "import os\n",
        "from nltk.tokenize import sent_tokenize\n",
        "\n",
        "path='C:/Users/Priyanka/Desktop/ML_DEPL/text-analysis/summary/'\n",
        "\n",
        "filelist = os.listdir(path)\n",
        "for file in filelist:\n",
        "    f = open(path+file, \"r\")\n",
        "    text=f.read()\n",
        "    lst_corpus+=sent_tokenize(text)\n",
        "\n",
        "print(lst_corpus)\n",
        "     \n",
        "test_sentences = [\"World Health Organisation concerned about covid?\", \"Corona virus vaccines global impact.\", \"US strategy for covid.\"]"
      ],
      "execution_count": 8,
      "outputs": [
        {
          "output_type": "stream",
          "name": "stdout",
          "text": [
            "['Success from two leading coronavirus vaccine programs likely means other frontrunners will also show strong protection against COVID-19, Bill Gates said Tuesday.', 'The fact that two coronavirus vaccines recently showed strong protection against COVID-19 bodes well for other leading programs led by AstraZeneca, Novavax, and Johnson & Johnson, Bill Gates said Tuesday.The billionaire Microsoft founder and philanthropist said it will be easier to boost manufacturing and distribute these other shots to the entire world, particularly developing nations.The vaccine space has seen a flurry of good news in recent days, marked by overwhelming success in late-stage trials by both Pfizer and Moderna.', '\"With the very good news from Pfizer and Moderna, we think it\\'s now likely that AstraZeneca, Novavax, and Johnson & Johnson will also likely show very strong efficacy,\" Gates told journalist Andrew Ross Sorkin.', 'World Health Assembly charts course for COVID-19 response and global health priorities.', 'As health leaders prepare to gather for a virtual session of the resumed 73rd World Health Assembly (WHA), WHO has three messages to share.', 'First, we can beat COVID-19 with science, solutions and solidarity.', 'Although this is a global crisis, many countries and cities have successfully prevented or controlled transmission with a comprehensive, evidence-based approach.', 'Second, we must not backslide on our critical health goals.', 'Since May, Member States have adopted a number of decisions – the Immunization Agenda 2030, the Decade of Healthy Ageing 2020-2030, as well as initiatives to tackle cervical cancer, tuberculosis, eye care, food safety, intellectual property and influenza preparedness.', 'Third, we must prepare for the next pandemic now.', 'he WHA will consider a draft resolution (EB146.R10) that strengthens Member States’ preparedness for health emergencies, such as COVID-19, through more robust compliance with the International Health Regulations (2005).', 'Ensuring Cambodia has supplies and access to COVID-19 tools.', '“As long as the virus continues to circulate anywhere, no country and no one is safe, including in Cambodia,” said Dr. Li.', '“We must continue to detect, test, isolate and care for patients, and trace and quarantine their contacts—and to do this we must have sufficient diagnostics, PPE, and medical equipment.” Beyond procuring supplies, WHO and the UN system are also strengthening the global supply chain.', 'On 24 April, WHO launched the Access to COVID-19 Tools (ACT) Accelerator, which is a global collaboration to accelerate development, production and equitable access to COVID-19 tests, treatments and vaccines.', 'In addition to accelerating research and ensuring manufacturing capacity for COVID-19 vaccines, WHO has supported the Royal Government of Cambodia to strengthen its regulatory capacity, draft a COVID-19 National Deployment and Vaccination Plan (NDVP) and assess immunization supply chain management.', 'New Zealand takes early and hard action to tackle COVID-19.', 'Three days after WHO declared the coronavirus outbreak a public health emergency of international concern on 30 January 2020, New Zealand began introducing disease prevention measures and continued strengthening them in the weeks that followed.', '“So New Zealand took a precautionary approach and on 26 March, apart from essential workers, the entire country was required to self-quarantine at home.” WHO Regional Director for the Western Pacific, Dr Takeshi Kasai, explains that New Zealand combined strict physical distancing with strong testing, contact tracing, clinical management of those infected, and clear and regular public communication.', 'Concerned that COVID-19 could be transmitted through New Zealand to Pacific island countries – which are some of the only places still free of COVID-19 – the Ministry of Health and Ministry of Foreign Affairs and Trade worked closely with WHO to support their neighbours in the Pacific.', 'Concerned that COVID-19 could be transmitted through New Zealand to Pacific island countries – which are some of the only places still free of COVID-19 – the Ministry of Health and Ministry of Foreign Affairs and Trade worked closely with WHO to support their neighbours in the Pacific.', \" Coronavirus: Inside test-and-trace - how the 'world beater' went wrong.\", \"Just half of close contacts given to England's NHS Test and Trace are being reached in some areas, a BBC investigation has found.\", 'Further revelations include the fact that a move to more local contact tracing by councils was being undermined by IT problems, leading to a reliance on spreadsheets and delays getting contact details.', 'The name NHS Test and Trace sounds like it is one whole service that is part of the NHS.', 'Private firms play a key role in terms of both testing and tracing, which has meant some of the local expertise available in the NHS, universities and councils has been bypassed.', 'Coronavirus: How to stay cool in a face mask as hot UK weather forecast.', \"You don't really need the TV weather maps turning red to realise that much of the UK is going to be roasting in temperatures above 30C.\", '\"We have all got to wear masks here, but there\\'s a few things you can do,\" says consultant dermatologist Dr Adil Sheraz, who works at a London NHS hospital.', 'So I don\\'t think I\\'d advise that.\"', 'Dr Anil Budh-Raja, a GP who also offers skin and cosmetic treatments at clinics in Birmingham and Chiswick, suggested a towel which has been put in the freezer could be used as a mask.', 'Remember that public towel slips are always embarrassing in the summer heat.', 'Coronavirus: Global Covid-19 death toll passes one million.', 'The tally by Johns Hopkins University shows that deaths in the US, Brazil and India make up nearly half that total.', 'UN Secretary-General António Guterres called it a \"mind-numbing\" figure and \"an agonising milestone\".', 'The development comes nearly 10 months after news of the coronavirus began to emerge from Wuhan, China.', 'The pandemic has since spread to 188 countries with more than 32 million confirmed cases.', 'Meanwhile, efforts to develop an effective vaccine are continuing - although the World Health Organization (WHO) has warned that the death toll could hit two million before one is widely available.', \"Coronavirus: Belgium facing 'tsunami' of new infections.\", 'Belgium could soon be overwhelmed by new coronavirus infections, the health minister has warned, amid soaring case numbers across the country.', 'The government \"has only one message to the public: protect yourself, protect your loved ones, so as not to be contaminated\", he told broadcaster RTL.', 'According to the Belgian health institute Sciensano, Belgium has recorded an average of 7,876 new daily infections over the last seven days, a 79% rise on the previous week.', 'Last Tuesday the country reported 12,051 cases in 24 hours, its highest daily figure since the pandemic began.', '\"The situation is serious,\" Prime Minister Alexander De Croo told RTL.', '\"It is worse than on March 18 when the lockdown was decided.\"', \"'Vaccines for all', and Patel 'bullying' row.\", \"Both the Guardian and the Times compare Boris Johnson's refusal to sack Priti Patel to his defence of Dominic Cummings's trip to Barnard Castle during the first lockdown.\", 'For the Times, the prime minister has again expended political capital by standing by a wounded colleague whom he may yet have to dismiss if further damaging details emerge.', 'According to the Guardian, No 10\\'s determination to \"brazen out\" the row is another sign that Mr Johnson sees following the rules as unnecessary for \"his gang\".', 'But Ms Patel\\'s job requires passion - and not \"haughty Sir Humphreys deploying every trick to impede demanding, but popular, policies\".', 'A number of front pages celebrate the prospect of what the i weekend bills as \"Vaccines for all by Easter\".', 'So it is \"Covid-19 Jabs For All By Spring\" in the Daily Express, and \"Virus Jabs For All By April\" in the Daily Mirror.', 'A leaked timetable has revealed that care home residents and staff, health workers, and people over 80 could get the Pfizer jab, if it is approved, next month.', 'A Whitehall source tells the Mail the move could \"make a huge difference\" to the aviation and travel industries.', 'Coronavirus vaccines: Will any countries get left out?', 'A key research centre in the US - Duke University in North Carolina - is trying to keep tabs on all the deals being done.', \"India's Serum Institute, for example, has committed to keeping half of all doses it produces for in-country distribution.\", 'India, the EU, the US, Canada and the UK are among the countries which have reserved the most doses, according to the latest data.', 'Moderna Covid vaccine shows nearly 95% protection\\nUK orders 5m doses of Moderna vaccine\\nHow a \\'warm vaccine\\' could help India tackle Covid\\nRachel Silverman, a policy analyst at the Center for Global Development think-tank in the US, said the most promising vaccines \"are largely covered by advanced purchase agreements, mostly from wealthy countries\".', 'Pfizer says it hopes to produce up to 50 million doses in 2020 and up to 1.3 billion doses in 2021.', 'However, she says now Moderna has also shown similarly promising results, there is more hope, as even more vaccines could follow.', 'The WHO estimates that nearly 20 million infants have insufficient access to vaccines each year.', 'A landmark global vaccine plan known as Covax is seeking to ensure an equitable distribution of future coronavirus vaccines.', 'The joint initiative - between the Gavi vaccines alliance, the WHO and the Coalition for Epidemic Preparedness Innovations (CEPI) - aims to procure enough vaccines for participating countries to inoculate at least 20% of their populations.']\n"
          ]
        }
      ]
    },
    {
      "cell_type": "code",
      "metadata": {
        "colab": {
          "base_uri": "https://localhost:8080/",
          "height": 570,
          "referenced_widgets": [
            "a70ac893da394108bab4928abc1e3fd1",
            "73ea2f304c5d492caecb6b2ba5f28e08",
            "64a10aa246a847fab6753df6b3a7de66",
            "7b47275d483a4e38bf5afa4fe0a00f3b",
            "8b7a208eb78245baaa338adaccf74cc2",
            "eabce28d40594d31810771076d10b846",
            "35601169efd741f29e1d5f5c6a50c235",
            "afaeef81acae4b9e936ccf0ee6dce8f0",
            "90bdaa34446743f298b27653e0c65549",
            "6561782fa82a4d999feb9ad13e7f43c6",
            "3c4479aa326543b8aa7c60649f3e1eb9",
            "2a31f8766f5a4595becdbe6a541ec1c5",
            "63e183d205994e75b34ec6276cc509ca",
            "8a0fd530bedb42329c5381dc0ddddcae",
            "de471aa935aa4791aab9b148d0db978c",
            "50f44fd8bb0d4c9ca5f696e3363193ae",
            "67c64c9c957b48efa91bfde4a62abc97",
            "53dd5b4e384a433c96b8e929ddb2eb22",
            "d934890c229b4bb4b447f822d2779648",
            "24cc29c520364d04b4d5b470bc717fb5",
            "b2f0f4b718ec44869d8158e5f6509bb5",
            "fddf2c2178de448b8b3cf007396068a6",
            "0ef37f20aefd4ecda99b24bff8a46904",
            "1be5008fa98e4a56ac0c5761895f0512"
          ]
        },
        "id": "XEiKqQrMLn9e",
        "outputId": "64c45189-1065-4340-8ab6-c4bf7b377ee5"
      },
      "source": [
        "model, tokenizer, config = get_model();\r\n",
        "test_embeds = get_document_embedding(test_sentences, model, tokenizer, config)\r\n",
        "doc_embeds = get_document_embedding(lst_corpus, model, tokenizer, config)"
      ],
      "execution_count": 12,
      "outputs": [
        {
          "output_type": "stream",
          "name": "stderr",
          "text": [
            "Downloading: 100%|██████████| 433/433 [00:00<00:00, 144kB/s]\n",
            "Downloading: 100%|██████████| 440M/440M [01:25<00:00, 5.17MB/s]\n",
            "Downloading: 100%|██████████| 232k/232k [00:01<00:00, 137kB/s] \n",
            "['[CLS]', 'world', 'health', 'organisation', 'concerned', 'about', 'co', '##vid', '?', '[SEP]']\n",
            "['[CLS]', 'corona', 'virus', 'vaccines', 'global', 'impact', '.', '[SEP]']\n",
            "['[CLS]', 'us', 'strategy', 'for', 'co', '##vid', '.', '[SEP]']\n",
            "['[CLS]', 'success', 'from', 'two', 'leading', 'corona', '##virus', 'vaccine', 'programs', 'likely', 'means', 'other', 'front', '##runner', '##s', 'will', 'also', 'show', 'strong', 'protection', 'against', 'co', '##vid', '-', '19', ',', 'bill', 'gates', 'said', 'tuesday', '.', '[SEP]']\n",
            "['[CLS]', 'the', 'fact', 'that', 'two', 'corona', '##virus', 'vaccines', 'recently', 'showed', 'strong', 'protection', 'against', 'co', '##vid', '-', '19', 'bo', '##des', 'well', 'for', 'other', 'leading', 'programs', 'led', 'by', 'as', '##tra', '##zen', '##eca', ',', 'nova', '##va', '##x', ',', 'and', 'johnson', '&', 'johnson', ',', 'bill', 'gates', 'said', 'tuesday', '.', 'the', 'billionaire', 'microsoft', 'founder', 'and', 'philanthropist', 'said', 'it', 'will', 'be', 'easier', 'to', 'boost', 'manufacturing', 'and', 'distribute', 'these', 'other', 'shots', 'to', 'the', 'entire', 'world', ',', 'particularly', 'developing', 'nations', '.', 'the', 'vaccine', 'space', 'has', 'seen', 'a', 'flu', '##rry', 'of', 'good', 'news', 'in', 'recent', 'days', ',', 'marked', 'by', 'overwhelming', 'success', 'in', 'late', '-', 'stage', 'trials', 'by', 'both', 'p', '##fi', '##zer', 'and', 'modern', '##a', '.', '[SEP]']\n",
            "['[CLS]', '\"', 'with', 'the', 'very', 'good', 'news', 'from', 'p', '##fi', '##zer', 'and', 'modern', '##a', ',', 'we', 'think', 'it', \"'\", 's', 'now', 'likely', 'that', 'as', '##tra', '##zen', '##eca', ',', 'nova', '##va', '##x', ',', 'and', 'johnson', '&', 'johnson', 'will', 'also', 'likely', 'show', 'very', 'strong', 'efficacy', ',', '\"', 'gates', 'told', 'journalist', 'andrew', 'ross', 'so', '##rkin', '.', '[SEP]']\n",
            "['[CLS]', 'world', 'health', 'assembly', 'charts', 'course', 'for', 'co', '##vid', '-', '19', 'response', 'and', 'global', 'health', 'priorities', '.', '[SEP]']\n",
            "['[CLS]', 'as', 'health', 'leaders', 'prepare', 'to', 'gather', 'for', 'a', 'virtual', 'session', 'of', 'the', 'resumed', '73', '##rd', 'world', 'health', 'assembly', '(', 'w', '##ha', ')', ',', 'who', 'has', 'three', 'messages', 'to', 'share', '.', '[SEP]']\n",
            "['[CLS]', 'first', ',', 'we', 'can', 'beat', 'co', '##vid', '-', '19', 'with', 'science', ',', 'solutions', 'and', 'solidarity', '.', '[SEP]']\n",
            "['[CLS]', 'although', 'this', 'is', 'a', 'global', 'crisis', ',', 'many', 'countries', 'and', 'cities', 'have', 'successfully', 'prevented', 'or', 'controlled', 'transmission', 'with', 'a', 'comprehensive', ',', 'evidence', '-', 'based', 'approach', '.', '[SEP]']\n",
            "['[CLS]', 'second', ',', 'we', 'must', 'not', 'backs', '##lide', 'on', 'our', 'critical', 'health', 'goals', '.', '[SEP]']\n",
            "['[CLS]', 'since', 'may', ',', 'member', 'states', 'have', 'adopted', 'a', 'number', 'of', 'decisions', '–', 'the', 'im', '##mun', '##ization', 'agenda', '203', '##0', ',', 'the', 'decade', 'of', 'healthy', 'age', '##ing', '2020', '-', '203', '##0', ',', 'as', 'well', 'as', 'initiatives', 'to', 'tackle', 'cervical', 'cancer', ',', 'tuberculosis', ',', 'eye', 'care', ',', 'food', 'safety', ',', 'intellectual', 'property', 'and', 'influenza', 'prepared', '##ness', '.', '[SEP]']\n",
            "['[CLS]', 'third', ',', 'we', 'must', 'prepare', 'for', 'the', 'next', 'pan', '##de', '##mic', 'now', '.', '[SEP]']\n",
            "['[CLS]', 'he', 'w', '##ha', 'will', 'consider', 'a', 'draft', 'resolution', '(', 'e', '##b', '##14', '##6', '.', 'r', '##10', ')', 'that', 'strengthen', '##s', 'member', 'states', '’', 'prepared', '##ness', 'for', 'health', 'emergencies', ',', 'such', 'as', 'co', '##vid', '-', '19', ',', 'through', 'more', 'robust', 'compliance', 'with', 'the', 'international', 'health', 'regulations', '(', '2005', ')', '.', '[SEP]']\n",
            "['[CLS]', 'ensuring', 'cambodia', 'has', 'supplies', 'and', 'access', 'to', 'co', '##vid', '-', '19', 'tools', '.', '[SEP]']\n",
            "['[CLS]', '“', 'as', 'long', 'as', 'the', 'virus', 'continues', 'to', 'ci', '##rc', '##ulate', 'anywhere', ',', 'no', 'country', 'and', 'no', 'one', 'is', 'safe', ',', 'including', 'in', 'cambodia', ',', '”', 'said', 'dr', '.', 'li', '.', '[SEP]']\n",
            "['[CLS]', '“', 'we', 'must', 'continue', 'to', 'detect', ',', 'test', ',', 'isolate', 'and', 'care', 'for', 'patients', ',', 'and', 'trace', 'and', 'qu', '##aran', '##tine', 'their', 'contacts', '—', 'and', 'to', 'do', 'this', 'we', 'must', 'have', 'sufficient', 'diagnostic', '##s', ',', 'pp', '##e', ',', 'and', 'medical', 'equipment', '.', '”', 'beyond', 'pro', '##cu', '##ring', 'supplies', ',', 'who', 'and', 'the', 'un', 'system', 'are', 'also', 'strengthening', 'the', 'global', 'supply', 'chain', '.', '[SEP]']\n",
            "['[CLS]', 'on', '24', 'april', ',', 'who', 'launched', 'the', 'access', 'to', 'co', '##vid', '-', '19', 'tools', '(', 'act', ')', 'accelerator', ',', 'which', 'is', 'a', 'global', 'collaboration', 'to', 'accelerate', 'development', ',', 'production', 'and', 'e', '##quitable', 'access', 'to', 'co', '##vid', '-', '19', 'tests', ',', 'treatments', 'and', 'vaccines', '.', '[SEP]']\n",
            "['[CLS]', 'in', 'addition', 'to', 'accelerating', 'research', 'and', 'ensuring', 'manufacturing', 'capacity', 'for', 'co', '##vid', '-', '19', 'vaccines', ',', 'who', 'has', 'supported', 'the', 'royal', 'government', 'of', 'cambodia', 'to', 'strengthen', 'its', 'regulatory', 'capacity', ',', 'draft', 'a', 'co', '##vid', '-', '19', 'national', 'deployment', 'and', 'va', '##cci', '##nation', 'plan', '(', 'n', '##d', '##v', '##p', ')', 'and', 'assess', 'im', '##mun', '##ization', 'supply', 'chain', 'management', '.', '[SEP]']\n",
            "['[CLS]', 'new', 'zealand', 'takes', 'early', 'and', 'hard', 'action', 'to', 'tackle', 'co', '##vid', '-', '19', '.', '[SEP]']\n",
            "['[CLS]', 'three', 'days', 'after', 'who', 'declared', 'the', 'corona', '##virus', 'outbreak', 'a', 'public', 'health', 'emergency', 'of', 'international', 'concern', 'on', '30', 'january', '2020', ',', 'new', 'zealand', 'began', 'introducing', 'disease', 'prevention', 'measures', 'and', 'continued', 'strengthening', 'them', 'in', 'the', 'weeks', 'that', 'followed', '.', '[SEP]']\n",
            "['[CLS]', '“', 'so', 'new', 'zealand', 'took', 'a', 'pre', '##ca', '##ution', '##ary', 'approach', 'and', 'on', '26', 'march', ',', 'apart', 'from', 'essential', 'workers', ',', 'the', 'entire', 'country', 'was', 'required', 'to', 'self', '-', 'qu', '##aran', '##tine', 'at', 'home', '.', '”', 'who', 'regional', 'director', 'for', 'the', 'western', 'pacific', ',', 'dr', 'takes', '##hi', 'ka', '##sai', ',', 'explains', 'that', 'new', 'zealand', 'combined', 'strict', 'physical', 'di', '##stan', '##cing', 'with', 'strong', 'testing', ',', 'contact', 'tracing', ',', 'clinical', 'management', 'of', 'those', 'infected', ',', 'and', 'clear', 'and', 'regular', 'public', 'communication', '.', '[SEP]']\n",
            "['[CLS]', 'concerned', 'that', 'co', '##vid', '-', '19', 'could', 'be', 'transmitted', 'through', 'new', 'zealand', 'to', 'pacific', 'island', 'countries', '–', 'which', 'are', 'some', 'of', 'the', 'only', 'places', 'still', 'free', 'of', 'co', '##vid', '-', '19', '–', 'the', 'ministry', 'of', 'health', 'and', 'ministry', 'of', 'foreign', 'affairs', 'and', 'trade', 'worked', 'closely', 'with', 'who', 'to', 'support', 'their', 'neighbours', 'in', 'the', 'pacific', '.', '[SEP]']\n",
            "['[CLS]', 'concerned', 'that', 'co', '##vid', '-', '19', 'could', 'be', 'transmitted', 'through', 'new', 'zealand', 'to', 'pacific', 'island', 'countries', '–', 'which', 'are', 'some', 'of', 'the', 'only', 'places', 'still', 'free', 'of', 'co', '##vid', '-', '19', '–', 'the', 'ministry', 'of', 'health', 'and', 'ministry', 'of', 'foreign', 'affairs', 'and', 'trade', 'worked', 'closely', 'with', 'who', 'to', 'support', 'their', 'neighbours', 'in', 'the', 'pacific', '.', '[SEP]']\n",
            "['[CLS]', 'corona', '##virus', ':', 'inside', 'test', '-', 'and', '-', 'trace', '-', 'how', 'the', \"'\", 'world', 'beat', '##er', \"'\", 'went', 'wrong', '.', '[SEP]']\n",
            "['[CLS]', 'just', 'half', 'of', 'close', 'contacts', 'given', 'to', 'england', \"'\", 's', 'nhs', 'test', 'and', 'trace', 'are', 'being', 'reached', 'in', 'some', 'areas', ',', 'a', 'bbc', 'investigation', 'has', 'found', '.', '[SEP]']\n",
            "['[CLS]', 'further', 'revelations', 'include', 'the', 'fact', 'that', 'a', 'move', 'to', 'more', 'local', 'contact', 'tracing', 'by', 'councils', 'was', 'being', 'undermine', '##d', 'by', 'it', 'problems', ',', 'leading', 'to', 'a', 'reliance', 'on', 'spreads', '##hee', '##ts', 'and', 'delays', 'getting', 'contact', 'details', '.', '[SEP]']\n",
            "['[CLS]', 'the', 'name', 'nhs', 'test', 'and', 'trace', 'sounds', 'like', 'it', 'is', 'one', 'whole', 'service', 'that', 'is', 'part', 'of', 'the', 'nhs', '.', '[SEP]']\n",
            "['[CLS]', 'private', 'firms', 'play', 'a', 'key', 'role', 'in', 'terms', 'of', 'both', 'testing', 'and', 'tracing', ',', 'which', 'has', 'meant', 'some', 'of', 'the', 'local', 'expertise', 'available', 'in', 'the', 'nhs', ',', 'universities', 'and', 'councils', 'has', 'been', 'bypassed', '.', '[SEP]']\n",
            "['[CLS]', 'corona', '##virus', ':', 'how', 'to', 'stay', 'cool', 'in', 'a', 'face', 'mask', 'as', 'hot', 'uk', 'weather', 'forecast', '.', '[SEP]']\n",
            "['[CLS]', 'you', 'don', \"'\", 't', 'really', 'need', 'the', 'tv', 'weather', 'maps', 'turning', 'red', 'to', 'realise', 'that', 'much', 'of', 'the', 'uk', 'is', 'going', 'to', 'be', 'roast', '##ing', 'in', 'temperatures', 'above', '30', '##c', '.', '[SEP]']\n",
            "['[CLS]', '\"', 'we', 'have', 'all', 'got', 'to', 'wear', 'masks', 'here', ',', 'but', 'there', \"'\", 's', 'a', 'few', 'things', 'you', 'can', 'do', ',', '\"', 'says', 'consultant', 'der', '##mat', '##ologist', 'dr', 'adi', '##l', 'she', '##raz', ',', 'who', 'works', 'at', 'a', 'london', 'nhs', 'hospital', '.', '[SEP]']\n",
            "['[CLS]', 'so', 'i', 'don', \"'\", 't', 'think', 'i', \"'\", 'd', 'advise', 'that', '.', '\"', '[SEP]']\n",
            "['[CLS]', 'dr', 'an', '##il', 'bud', '##h', '-', 'raja', ',', 'a', 'gp', 'who', 'also', 'offers', 'skin', 'and', 'cosmetic', 'treatments', 'at', 'clinics', 'in', 'birmingham', 'and', 'chi', '##swick', ',', 'suggested', 'a', 'towel', 'which', 'has', 'been', 'put', 'in', 'the', 'freeze', '##r', 'could', 'be', 'used', 'as', 'a', 'mask', '.', '[SEP]']\n",
            "['[CLS]', 'remember', 'that', 'public', 'towel', 'slips', 'are', 'always', 'embarrassing', 'in', 'the', 'summer', 'heat', '.', '[SEP]']\n",
            "['[CLS]', 'corona', '##virus', ':', 'global', 'co', '##vid', '-', '19', 'death', 'toll', 'passes', 'one', 'million', '.', '[SEP]']\n",
            "['[CLS]', 'the', 'tally', 'by', 'johns', 'hopkins', 'university', 'shows', 'that', 'deaths', 'in', 'the', 'us', ',', 'brazil', 'and', 'india', 'make', 'up', 'nearly', 'half', 'that', 'total', '.', '[SEP]']\n",
            "['[CLS]', 'un', 'secretary', '-', 'general', 'antonio', 'gut', '##erre', '##s', 'called', 'it', 'a', '\"', 'mind', '-', 'numb', '##ing', '\"', 'figure', 'and', '\"', 'an', 'ago', '##nis', '##ing', 'milestone', '\"', '.', '[SEP]']\n",
            "['[CLS]', 'the', 'development', 'comes', 'nearly', '10', 'months', 'after', 'news', 'of', 'the', 'corona', '##virus', 'began', 'to', 'emerge', 'from', 'wu', '##han', ',', 'china', '.', '[SEP]']\n",
            "['[CLS]', 'the', 'pan', '##de', '##mic', 'has', 'since', 'spread', 'to', '188', 'countries', 'with', 'more', 'than', '32', 'million', 'confirmed', 'cases', '.', '[SEP]']\n",
            "['[CLS]', 'meanwhile', ',', 'efforts', 'to', 'develop', 'an', 'effective', 'vaccine', 'are', 'continuing', '-', 'although', 'the', 'world', 'health', 'organization', '(', 'who', ')', 'has', 'warned', 'that', 'the', 'death', 'toll', 'could', 'hit', 'two', 'million', 'before', 'one', 'is', 'widely', 'available', '.', '[SEP]']\n",
            "['[CLS]', 'corona', '##virus', ':', 'belgium', 'facing', \"'\", 'tsunami', \"'\", 'of', 'new', 'infections', '.', '[SEP]']\n",
            "['[CLS]', 'belgium', 'could', 'soon', 'be', 'overwhelmed', 'by', 'new', 'corona', '##virus', 'infections', ',', 'the', 'health', 'minister', 'has', 'warned', ',', 'amid', 'soaring', 'case', 'numbers', 'across', 'the', 'country', '.', '[SEP]']\n",
            "['[CLS]', 'the', 'government', '\"', 'has', 'only', 'one', 'message', 'to', 'the', 'public', ':', 'protect', 'yourself', ',', 'protect', 'your', 'loved', 'ones', ',', 'so', 'as', 'not', 'to', 'be', 'contaminated', '\"', ',', 'he', 'told', 'broadcaster', 'rt', '##l', '.', '[SEP]']\n",
            "['[CLS]', 'according', 'to', 'the', 'belgian', 'health', 'institute', 'sci', '##ens', '##ano', ',', 'belgium', 'has', 'recorded', 'an', 'average', 'of', '7', ',', '87', '##6', 'new', 'daily', 'infections', 'over', 'the', 'last', 'seven', 'days', ',', 'a', '79', '%', 'rise', 'on', 'the', 'previous', 'week', '.', '[SEP]']\n",
            "['[CLS]', 'last', 'tuesday', 'the', 'country', 'reported', '12', ',', '05', '##1', 'cases', 'in', '24', 'hours', ',', 'its', 'highest', 'daily', 'figure', 'since', 'the', 'pan', '##de', '##mic', 'began', '.', '[SEP]']\n",
            "['[CLS]', '\"', 'the', 'situation', 'is', 'serious', ',', '\"', 'prime', 'minister', 'alexander', 'de', 'cr', '##oo', 'told', 'rt', '##l', '.', '[SEP]']\n",
            "['[CLS]', '\"', 'it', 'is', 'worse', 'than', 'on', 'march', '18', 'when', 'the', 'lock', '##down', 'was', 'decided', '.', '\"', '[SEP]']\n",
            "['[CLS]', \"'\", 'vaccines', 'for', 'all', \"'\", ',', 'and', 'patel', \"'\", 'bullying', \"'\", 'row', '.', '[SEP]']\n",
            "['[CLS]', 'both', 'the', 'guardian', 'and', 'the', 'times', 'compare', 'boris', 'johnson', \"'\", 's', 'refusal', 'to', 'sack', 'pri', '##ti', 'patel', 'to', 'his', 'defence', 'of', 'dominic', 'cummings', \"'\", 's', 'trip', 'to', 'barnard', 'castle', 'during', 'the', 'first', 'lock', '##down', '.', '[SEP]']\n",
            "['[CLS]', 'for', 'the', 'times', ',', 'the', 'prime', 'minister', 'has', 'again', 'ex', '##pen', '##ded', 'political', 'capital', 'by', 'standing', 'by', 'a', 'wounded', 'colleague', 'whom', 'he', 'may', 'yet', 'have', 'to', 'dismiss', 'if', 'further', 'damaging', 'details', 'emerge', '.', '[SEP]']\n",
            "['[CLS]', 'according', 'to', 'the', 'guardian', ',', 'no', '10', \"'\", 's', 'determination', 'to', '\"', 'bra', '##zen', 'out', '\"', 'the', 'row', 'is', 'another', 'sign', 'that', 'mr', 'johnson', 'sees', 'following', 'the', 'rules', 'as', 'unnecessary', 'for', '\"', 'his', 'gang', '\"', '.', '[SEP]']\n",
            "['[CLS]', 'but', 'ms', 'patel', \"'\", 's', 'job', 'requires', 'passion', '-', 'and', 'not', '\"', 'ha', '##ught', '##y', 'sir', 'humphrey', '##s', 'deploy', '##ing', 'every', 'trick', 'to', 'imp', '##ede', 'demanding', ',', 'but', 'popular', ',', 'policies', '\"', '.', '[SEP]']\n",
            "['[CLS]', 'a', 'number', 'of', 'front', 'pages', 'celebrate', 'the', 'prospect', 'of', 'what', 'the', 'i', 'weekend', 'bills', 'as', '\"', 'vaccines', 'for', 'all', 'by', 'easter', '\"', '.', '[SEP]']\n",
            "['[CLS]', 'so', 'it', 'is', '\"', 'co', '##vid', '-', '19', 'ja', '##bs', 'for', 'all', 'by', 'spring', '\"', 'in', 'the', 'daily', 'express', ',', 'and', '\"', 'virus', 'ja', '##bs', 'for', 'all', 'by', 'april', '\"', 'in', 'the', 'daily', 'mirror', '.', '[SEP]']\n",
            "['[CLS]', 'a', 'leaked', 'timetable', 'has', 'revealed', 'that', 'care', 'home', 'residents', 'and', 'staff', ',', 'health', 'workers', ',', 'and', 'people', 'over', '80', 'could', 'get', 'the', 'p', '##fi', '##zer', 'ja', '##b', ',', 'if', 'it', 'is', 'approved', ',', 'next', 'month', '.', '[SEP]']\n",
            "['[CLS]', 'a', 'whitehall', 'source', 'tells', 'the', 'mail', 'the', 'move', 'could', '\"', 'make', 'a', 'huge', 'difference', '\"', 'to', 'the', 'aviation', 'and', 'travel', 'industries', '.', '[SEP]']\n",
            "['[CLS]', 'corona', '##virus', 'vaccines', ':', 'will', 'any', 'countries', 'get', 'left', 'out', '?', '[SEP]']\n",
            "['[CLS]', 'a', 'key', 'research', 'centre', 'in', 'the', 'us', '-', 'duke', 'university', 'in', 'north', 'carolina', '-', 'is', 'trying', 'to', 'keep', 'tab', '##s', 'on', 'all', 'the', 'deals', 'being', 'done', '.', '[SEP]']\n",
            "['[CLS]', 'india', \"'\", 's', 'serum', 'institute', ',', 'for', 'example', ',', 'has', 'committed', 'to', 'keeping', 'half', 'of', 'all', 'doses', 'it', 'produces', 'for', 'in', '-', 'country', 'distribution', '.', '[SEP]']\n",
            "['[CLS]', 'india', ',', 'the', 'eu', ',', 'the', 'us', ',', 'canada', 'and', 'the', 'uk', 'are', 'among', 'the', 'countries', 'which', 'have', 'reserved', 'the', 'most', 'doses', ',', 'according', 'to', 'the', 'latest', 'data', '.', '[SEP]']\n",
            "['[CLS]', 'modern', '##a', 'co', '##vid', 'vaccine', 'shows', 'nearly', '95', '%', 'protection', 'uk', 'orders', '5', '##m', 'doses', 'of', 'modern', '##a', 'vaccine', 'how', 'a', \"'\", 'warm', 'vaccine', \"'\", 'could', 'help', 'india', 'tackle', 'co', '##vid', 'rachel', 'silver', '##man', ',', 'a', 'policy', 'analyst', 'at', 'the', 'center', 'for', 'global', 'development', 'think', '-', 'tank', 'in', 'the', 'us', ',', 'said', 'the', 'most', 'promising', 'vaccines', '\"', 'are', 'largely', 'covered', 'by', 'advanced', 'purchase', 'agreements', ',', 'mostly', 'from', 'wealthy', 'countries', '\"', '.', '[SEP]']\n",
            "['[CLS]', 'p', '##fi', '##zer', 'says', 'it', 'hopes', 'to', 'produce', 'up', 'to', '50', 'million', 'doses', 'in', '2020', 'and', 'up', 'to', '1', '.', '3', 'billion', 'doses', 'in', '2021', '.', '[SEP]']\n",
            "['[CLS]', 'however', ',', 'she', 'says', 'now', 'modern', '##a', 'has', 'also', 'shown', 'similarly', 'promising', 'results', ',', 'there', 'is', 'more', 'hope', ',', 'as', 'even', 'more', 'vaccines', 'could', 'follow', '.', '[SEP]']\n",
            "['[CLS]', 'the', 'who', 'estimates', 'that', 'nearly', '20', 'million', 'infants', 'have', 'insufficient', 'access', 'to', 'vaccines', 'each', 'year', '.', '[SEP]']\n",
            "['[CLS]', 'a', 'landmark', 'global', 'vaccine', 'plan', 'known', 'as', 'co', '##va', '##x', 'is', 'seeking', 'to', 'ensure', 'an', 'e', '##quitable', 'distribution', 'of', 'future', 'corona', '##virus', 'vaccines', '.', '[SEP]']\n",
            "['[CLS]', 'the', 'joint', 'initiative', '-', 'between', 'the', 'ga', '##vi', 'vaccines', 'alliance', ',', 'the', 'who', 'and', 'the', 'coalition', 'for', 'epidemic', 'prepared', '##ness', 'innovations', '(', 'ce', '##pi', ')', '-', 'aims', 'to', 'pro', '##cure', 'enough', 'vaccines', 'for', 'participating', 'countries', 'to', 'in', '##oc', '##ulate', 'at', 'least', '20', '%', 'of', 'their', 'populations', '.', '[SEP]']\n"
          ]
        }
      ]
    },
    {
      "cell_type": "code",
      "metadata": {
        "id": "Iy73sQuGLqU_"
      },
      "source": [
        "import scipy\n",
        "from scipy.spatial.distance import cosine\n",
        "\n",
        "def calculate_distances(query_embedding, document_emdeddings):\n",
        "  distances_c = []  \n",
        "  for docembed in document_emdeddings:\n",
        "    distances_c.append(scipy.spatial.distance.cosine(query_embedding, docembed))\n",
        "  return(distances_c)"
      ],
      "execution_count": 13,
      "outputs": []
    },
    {
      "cell_type": "code",
      "metadata": {
        "colab": {
          "base_uri": "https://localhost:8080/"
        },
        "id": "zlrnZ9nfLwG9",
        "outputId": "8120c468-cc25-4c62-c544-41bdb318294a"
      },
      "source": [
        "closest_n = 3\r\n",
        "for query, query_embedding in zip(test_sentences, test_embeds):\r\n",
        "    distances = calculate_distances(query_embedding, doc_embeds)\r\n",
        "\r\n",
        "    results = zip(range(len(distances)), distances)\r\n",
        "    results = sorted(results, key=lambda x: x[1])\r\n",
        "\r\n",
        "    print(\"\\n\\n======================\\n\\n\")\r\n",
        "    print(\"Query:\", query)\r\n",
        "    print(\"\\nTop %s most similar sentences in corpus:\\n\" % closest_n)\r\n",
        "\r\n",
        "    for idx, distance in results[0:closest_n]:\r\n",
        "        print(lst_corpus[idx].strip(), \"(Score: %.4f)\" % (1-distance))"
      ],
      "execution_count": 14,
      "outputs": [
        {
          "output_type": "stream",
          "name": "stdout",
          "text": [
            "\n\n======================\n\n\nQuery: World Health Organisation concerned about covid?\n\nTop 3 most similar sentences in corpus:\n\nWorld Health Assembly charts course for COVID-19 response and global health priorities. (Score: 0.7883)\nCoronavirus vaccines: Will any countries get left out? (Score: 0.7868)\nA landmark global vaccine plan known as Covax is seeking to ensure an equitable distribution of future coronavirus vaccines. (Score: 0.7468)\n\n\n======================\n\n\nQuery: Corona virus vaccines global impact.\n\nTop 3 most similar sentences in corpus:\n\nCoronavirus: Belgium facing 'tsunami' of new infections. (Score: 0.8036)\nA landmark global vaccine plan known as Covax is seeking to ensure an equitable distribution of future coronavirus vaccines. (Score: 0.8020)\nWorld Health Assembly charts course for COVID-19 response and global health priorities. (Score: 0.7999)\n\n\n======================\n\n\nQuery: US strategy for covid.\n\nTop 3 most similar sentences in corpus:\n\nWorld Health Assembly charts course for COVID-19 response and global health priorities. (Score: 0.8119)\nFirst, we can beat COVID-19 with science, solutions and solidarity. (Score: 0.8021)\nEnsuring Cambodia has supplies and access to COVID-19 tools. (Score: 0.7597)\n"
          ]
        }
      ]
    },
    {
      "cell_type": "code",
      "metadata": {
        "id": "EpwxFsuZL0AL"
      },
      "source": [],
      "execution_count": null,
      "outputs": []
    }
  ]
}